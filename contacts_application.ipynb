{
 "cells": [
  {
   "cell_type": "markdown",
   "metadata": {},
   "source": [
    "## Add contacts\n",
    "## list of contacts\n",
    "## Search Contacts\n",
    "## modify contacts\n"
   ]
  },
  {
   "cell_type": "code",
   "execution_count": null,
   "metadata": {},
   "outputs": [],
   "source": [
    "# add contacts\n",
    "contacts = {}\n",
    "\n",
    "def addContact(name,number,email):\n",
    "    if(name not in contacts):\n",
    "        if(Validator(number,email)==\"is valid\"):\n",
    "            contacts[name]=[number,email]\n",
    "        else:\n",
    "            return \"Invalid mobile or email entered\"\n",
    "    else:\n",
    "        return \"Contact already exists\""
   ]
  },
  {
   "cell_type": "code",
   "execution_count": null,
   "metadata": {},
   "outputs": [],
   "source": [
    "# list of contacts\n",
    "def listContacts():\n",
    "    for user in contacts.items():\n",
    "        print(user[0])\n",
    "        print(\"mobile:\",user[1][0])\n",
    "        print(\"email:\",user[1][1])"
   ]
  },
  {
   "cell_type": "code",
   "execution_count": null,
   "metadata": {},
   "outputs": [],
   "source": [
    "# search contacts\n",
    "def searchContacts(filename):\n",
    "    f = open(\"DataFiles/\"+filename,\"r\")\n",
    "    name = input()\n",
    "    for line in f:\n",
    "        line = line.strip()\n",
    "        words = line.split(',')\n",
    "        if name in words:\n",
    "            print(words[0]+\"\\n\"+\"Mobile: \"+words[1]+\"\\n\"+\"Email: \"+words[2])\n",
    "        else:\n",
    "            continue\n",
    "    f.close()\n",
    "searchContacts(\"contact.txt\")"
   ]
  },
  {
   "cell_type": "code",
   "execution_count": null,
   "metadata": {},
   "outputs": [],
   "source": [
    "# modify contacts\n",
    "from packages.dataValidator import Validator\n",
    "def modifyContacts(filename):\n",
    "    f = open(\"DataFiles/\"+filename,\"r\")\n",
    "    name = input()\n",
    "    updated_data = {}\n",
    "    for line in f:\n",
    "        line = line.strip()\n",
    "        words = line.split(',')\n",
    "        if(name in words):\n",
    "            phno = input()\n",
    "            email = input()\n",
    "            if(Validator(phno,email)==\"is valid\"):\n",
    "                words[1] = phno\n",
    "                words[2] = email\n",
    "                updated_data[words[0]]=[words[1],words[2]]\n",
    "            else:\n",
    "                print(\"Enter valid phone or email\")\n",
    "            \n",
    "        else:\n",
    "            updated_data[words[0]]=[words[1],words[2]]\n",
    "            continue\n",
    "    f.close()\n",
    "    f = open('DataFiles/'+filename,'w')\n",
    "    for record in updated_data.items():\n",
    "        f.write(record[0]+\",\"+record[1][0]+\",\"+record[1][1]+\"\\n\")\n",
    "    f.close()\n",
    "    return \"Data Updated Successfully..!!\"\n"
   ]
  }
 ],
 "metadata": {
  "kernelspec": {
   "display_name": "Python 3",
   "language": "python",
   "name": "python3"
  },
  "language_info": {
   "codemirror_mode": {
    "name": "ipython",
    "version": 3
   },
   "file_extension": ".py",
   "mimetype": "text/x-python",
   "name": "python",
   "nbconvert_exporter": "python",
   "pygments_lexer": "ipython3",
   "version": "3.7.3"
  }
 },
 "nbformat": 4,
 "nbformat_minor": 2
}
