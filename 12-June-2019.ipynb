{
 "cells": [
  {
   "cell_type": "markdown",
   "metadata": {},
   "source": [
    "# Problem Solving and Programming\n",
    "### Date 12-June-2019\n",
    "### Day Objectives\n",
    "- string slicing\n",
    "- Functions In Python\n",
    "- Basic Problems related to conditional statements using functions\n",
    "- Iterations in Python\n",
    "- python Data Structures -Lists,Tuples and Dictionaries\n",
    "- Basic operations on Data Structures\n",
    "- Applying Data Structures  to solve problems"
   ]
  },
  {
   "cell_type": "code",
   "execution_count": null,
   "metadata": {},
   "outputs": [],
   "source": []
  },
  {
   "cell_type": "markdown",
   "metadata": {},
   "source": [
    "# String - Slicing"
   ]
  },
  {
   "cell_type": "code",
   "execution_count": 4,
   "metadata": {},
   "outputs": [
    {
     "data": {
      "text/plain": [
       "'r'"
      ]
     },
     "execution_count": 4,
     "metadata": {},
     "output_type": "execute_result"
    }
   ],
   "source": [
    "s = \"python\"\n",
    "s1 = \"Avinash chekuri\"\n",
    "s1[len(s1)-1]\n",
    "s1[-2]\n"
   ]
  },
  {
   "cell_type": "code",
   "execution_count": 11,
   "metadata": {},
   "outputs": [
    {
     "data": {
      "text/plain": [
       "' hkr'"
      ]
     },
     "execution_count": 11,
     "metadata": {},
     "output_type": "execute_result"
    }
   ],
   "source": [
    "s1[-2]\n",
    "s1[4:]\n",
    "s1[-8::2]"
   ]
  },
  {
   "cell_type": "code",
   "execution_count": 12,
   "metadata": {},
   "outputs": [
    {
     "data": {
      "text/plain": [
       "'Avinash chekuri'"
      ]
     },
     "execution_count": 12,
     "metadata": {},
     "output_type": "execute_result"
    }
   ],
   "source": [
    "# Accesing all charecters except first and last character\n",
    "s1"
   ]
  },
  {
   "cell_type": "code",
   "execution_count": 13,
   "metadata": {},
   "outputs": [
    {
     "data": {
      "text/plain": [
       "'vinash chekur'"
      ]
     },
     "execution_count": 13,
     "metadata": {},
     "output_type": "execute_result"
    }
   ],
   "source": [
    "s1[1:-1]"
   ]
  },
  {
   "cell_type": "code",
   "execution_count": 14,
   "metadata": {},
   "outputs": [
    {
     "ename": "AttributeError",
     "evalue": "'str' object has no attribute 'reverse'",
     "output_type": "error",
     "traceback": [
      "\u001b[1;31m---------------------------------------------------------------------------\u001b[0m",
      "\u001b[1;31mAttributeError\u001b[0m                            Traceback (most recent call last)",
      "\u001b[1;32m<ipython-input-14-879bd2435221>\u001b[0m in \u001b[0;36m<module>\u001b[1;34m\u001b[0m\n\u001b[1;32m----> 1\u001b[1;33m \u001b[0ms1\u001b[0m\u001b[1;33m.\u001b[0m\u001b[0mreverse\u001b[0m\u001b[1;33m(\u001b[0m\u001b[1;33m)\u001b[0m\u001b[1;33m\u001b[0m\u001b[1;33m\u001b[0m\u001b[0m\n\u001b[0m",
      "\u001b[1;31mAttributeError\u001b[0m: 'str' object has no attribute 'reverse'"
     ]
    }
   ],
   "source": [
    "s1.reverse()"
   ]
  },
  {
   "cell_type": "code",
   "execution_count": 21,
   "metadata": {},
   "outputs": [
    {
     "ename": "ValueError",
     "evalue": "invalid literal for int() with base 10: 'Avinash chekuri'",
     "output_type": "error",
     "traceback": [
      "\u001b[1;31m---------------------------------------------------------------------------\u001b[0m",
      "\u001b[1;31mValueError\u001b[0m                                Traceback (most recent call last)",
      "\u001b[1;32m<ipython-input-21-6387df25912c>\u001b[0m in \u001b[0;36m<module>\u001b[1;34m\u001b[0m\n\u001b[1;32m----> 1\u001b[1;33m \u001b[0ms1\u001b[0m\u001b[1;33m[\u001b[0m\u001b[0mlen\u001b[0m\u001b[1;33m(\u001b[0m\u001b[0mint\u001b[0m\u001b[1;33m(\u001b[0m\u001b[0ms1\u001b[0m\u001b[1;33m)\u001b[0m\u001b[1;33m//\u001b[0m\u001b[1;36m2\u001b[0m\u001b[1;33m)\u001b[0m\u001b[1;33m]\u001b[0m\u001b[1;33m\u001b[0m\u001b[1;33m\u001b[0m\u001b[0m\n\u001b[0m",
      "\u001b[1;31mValueError\u001b[0m: invalid literal for int() with base 10: 'Avinash chekuri'"
     ]
    }
   ],
   "source": [
    "s1[len(int(s1)//2)]"
   ]
  },
  {
   "cell_type": "code",
   "execution_count": 24,
   "metadata": {},
   "outputs": [
    {
     "data": {
      "text/plain": [
       "'ir'"
      ]
     },
     "execution_count": 24,
     "metadata": {},
     "output_type": "execute_result"
    }
   ],
   "source": [
    "s1[-1:0:-1]\n",
    "s1[::-1]\n",
    "# acessing last two charectors in reverse string\n",
    "s1[-1:-3:-1]"
   ]
  },
  {
   "cell_type": "code",
   "execution_count": 27,
   "metadata": {},
   "outputs": [
    {
     "data": {
      "text/plain": [
       "' h'"
      ]
     },
     "execution_count": 27,
     "metadata": {},
     "output_type": "execute_result"
    }
   ],
   "source": [
    "#reverse the middle two chareters i an even length string\n",
    "s1[len(s1)//2:len(s1)//2-2:-1]\n"
   ]
  },
  {
   "cell_type": "code",
   "execution_count": 32,
   "metadata": {},
   "outputs": [
    {
     "data": {
      "text/plain": [
       "'pto'"
      ]
     },
     "execution_count": 32,
     "metadata": {},
     "output_type": "execute_result"
    }
   ],
   "source": [
    "#Acessing alternative charecters in a string\n",
    "k=\"python\"\n",
    "k[::2]"
   ]
  },
  {
   "cell_type": "code",
   "execution_count": 33,
   "metadata": {},
   "outputs": [
    {
     "data": {
      "text/plain": [
       "'nhy'"
      ]
     },
     "execution_count": 33,
     "metadata": {},
     "output_type": "execute_result"
    }
   ],
   "source": [
    "k[::-2]"
   ]
  },
  {
   "cell_type": "code",
   "execution_count": 34,
   "metadata": {},
   "outputs": [
    {
     "data": {
      "text/plain": [
       "['__add__',\n",
       " '__class__',\n",
       " '__contains__',\n",
       " '__delattr__',\n",
       " '__dir__',\n",
       " '__doc__',\n",
       " '__eq__',\n",
       " '__format__',\n",
       " '__ge__',\n",
       " '__getattribute__',\n",
       " '__getitem__',\n",
       " '__getnewargs__',\n",
       " '__gt__',\n",
       " '__hash__',\n",
       " '__init__',\n",
       " '__init_subclass__',\n",
       " '__iter__',\n",
       " '__le__',\n",
       " '__len__',\n",
       " '__lt__',\n",
       " '__mod__',\n",
       " '__mul__',\n",
       " '__ne__',\n",
       " '__new__',\n",
       " '__reduce__',\n",
       " '__reduce_ex__',\n",
       " '__repr__',\n",
       " '__rmod__',\n",
       " '__rmul__',\n",
       " '__setattr__',\n",
       " '__sizeof__',\n",
       " '__str__',\n",
       " '__subclasshook__',\n",
       " 'capitalize',\n",
       " 'casefold',\n",
       " 'center',\n",
       " 'count',\n",
       " 'encode',\n",
       " 'endswith',\n",
       " 'expandtabs',\n",
       " 'find',\n",
       " 'format',\n",
       " 'format_map',\n",
       " 'index',\n",
       " 'isalnum',\n",
       " 'isalpha',\n",
       " 'isascii',\n",
       " 'isdecimal',\n",
       " 'isdigit',\n",
       " 'isidentifier',\n",
       " 'islower',\n",
       " 'isnumeric',\n",
       " 'isprintable',\n",
       " 'isspace',\n",
       " 'istitle',\n",
       " 'isupper',\n",
       " 'join',\n",
       " 'ljust',\n",
       " 'lower',\n",
       " 'lstrip',\n",
       " 'maketrans',\n",
       " 'partition',\n",
       " 'replace',\n",
       " 'rfind',\n",
       " 'rindex',\n",
       " 'rjust',\n",
       " 'rpartition',\n",
       " 'rsplit',\n",
       " 'rstrip',\n",
       " 'split',\n",
       " 'splitlines',\n",
       " 'startswith',\n",
       " 'strip',\n",
       " 'swapcase',\n",
       " 'title',\n",
       " 'translate',\n",
       " 'upper',\n",
       " 'zfill']"
      ]
     },
     "execution_count": 34,
     "metadata": {},
     "output_type": "execute_result"
    }
   ],
   "source": [
    "dir(str)"
   ]
  },
  {
   "cell_type": "markdown",
   "metadata": {},
   "source": [
    "# Functions"
   ]
  },
  {
   "cell_type": "code",
   "execution_count": 35,
   "metadata": {},
   "outputs": [
    {
     "name": "stdout",
     "output_type": "stream",
     "text": [
      "nohtyp\n"
     ]
    }
   ],
   "source": [
    "def reversestring(s):\n",
    "    print(s[::-1])\n",
    "reversestring(\"python\")\n",
    "    "
   ]
  },
  {
   "cell_type": "code",
   "execution_count": 38,
   "metadata": {},
   "outputs": [
    {
     "data": {
      "text/plain": [
       "True"
      ]
     },
     "execution_count": 38,
     "metadata": {},
     "output_type": "execute_result"
    }
   ],
   "source": [
    "# function to check if a string is a palindrome\n",
    "def palindrome(s):\n",
    "    if s==s[::-1]:\n",
    "        return True\n",
    "    else:\n",
    "        return False\n",
    "palindrome(\"bob\")"
   ]
  },
  {
   "cell_type": "code",
   "execution_count": 42,
   "metadata": {},
   "outputs": [
    {
     "name": "stdout",
     "output_type": "stream",
     "text": [
      "True\n"
     ]
    }
   ],
   "source": [
    "#write a function \n",
    "def leapyear(year):\n",
    "    if(year % 4 == 0 and (year % 100 != 0 or year % 400 == 0)):\n",
    "        print(True)\n",
    "    else:\n",
    "        print(False)\n",
    "leapyear(2020)"
   ]
  },
  {
   "cell_type": "code",
   "execution_count": 47,
   "metadata": {},
   "outputs": [
    {
     "name": "stdout",
     "output_type": "stream",
     "text": [
      "True\n"
     ]
    }
   ],
   "source": [
    "def lp(year):\n",
    "    import calendar\n",
    "    print(calendar.isleap(year))\n",
    "lp(2020)"
   ]
  },
  {
   "cell_type": "code",
   "execution_count": 48,
   "metadata": {},
   "outputs": [
    {
     "name": "stdout",
     "output_type": "stream",
     "text": [
      "Enter the first No22\n",
      "Enter the Second No44\n",
      "Enter the Thrid No66\n",
      "Enter the Fourth No55\n",
      "66 is the Greatset\n"
     ]
    }
   ],
   "source": [
    "# function to identify the greatest of 4 numbers\n",
    "def greatestnumber():\n",
    "    a=int(input(\"Enter the first No\"))\n",
    "    b=int(input(\"Enter the Second No\"))\n",
    "    c=int(input(\"Enter the Thrid No\"))\n",
    "    d=int(input(\"Enter the Fourth No\"))\n",
    "\n",
    "    if (a>b and a>c) and a>d:\n",
    "   \n",
    "       print(a,\"is the Greatset\")\n",
    "\n",
    "    elif (b>c and b>a) and b>d :\n",
    "   \n",
    "       print(b,\"is the Greatset\")\n",
    "    elif (c>a and c>b) and c>d :\n",
    "   \n",
    "       print(c,\"is the Greatset\")\n",
    "    else:\n",
    "   \n",
    "       print(d,\"is the Greatset\")\n",
    "greatestnumber()\n"
   ]
  },
  {
   "cell_type": "code",
   "execution_count": 49,
   "metadata": {},
   "outputs": [
    {
     "data": {
      "text/plain": [
       "7"
      ]
     },
     "execution_count": 49,
     "metadata": {},
     "output_type": "execute_result"
    }
   ],
   "source": [
    "def countdigit(m):\n",
    "    return len(str(m))\n",
    "countdigit(4543646)"
   ]
  },
  {
   "cell_type": "markdown",
   "metadata": {},
   "source": [
    "# iterations\n",
    "## for loop\n",
    "## while loop"
   ]
  },
  {
   "cell_type": "code",
   "execution_count": 56,
   "metadata": {},
   "outputs": [
    {
     "name": "stdout",
     "output_type": "stream",
     "text": [
      "1\n",
      "2\n",
      "3\n",
      "4\n",
      "5\n",
      "6\n",
      "7\n",
      "8\n",
      "9\n",
      "10\n"
     ]
    }
   ],
   "source": [
    "#define to print n natural numbers\n",
    "def natural(n):\n",
    "    for i in range(1,n+1):\n",
    "        print(i)\n",
    "natural(10)"
   ]
  },
  {
   "cell_type": "code",
   "execution_count": 63,
   "metadata": {
    "scrolled": false
   },
   "outputs": [
    {
     "name": "stdout",
     "output_type": "stream",
     "text": [
      "10 9 8 7 6 5 4 3 2 1 \n",
      "30 29 28 27 26 25 24 23 22 21 20 19 18 17 16 15 14 13 12 11 10 9 8 7 6 5 4 3 2 1 \n"
     ]
    }
   ],
   "source": [
    "#define to print n natural numbers in reverse order\n",
    "def natural(n):\n",
    "    for i in range(n,0,-1):\n",
    "        print(i,end=\" \")\n",
    "    print()\n",
    "natural(10)\n",
    "natural(30)"
   ]
  },
  {
   "cell_type": "code",
   "execution_count": 59,
   "metadata": {},
   "outputs": [
    {
     "name": "stdout",
     "output_type": "stream",
     "text": [
      "55\n"
     ]
    }
   ],
   "source": [
    "# sum of n numbers\n",
    "def sumofn(n):\n",
    "    c=0\n",
    "    sum=0\n",
    "    for i in range(1,n+1):\n",
    "        c=c+1\n",
    "        sum=sum+i\n",
    "    print(sum)\n",
    "sumofn(10)\n",
    "        "
   ]
  },
  {
   "cell_type": "code",
   "execution_count": 65,
   "metadata": {},
   "outputs": [
    {
     "name": "stdout",
     "output_type": "stream",
     "text": [
      "1\n",
      "2\n",
      "3\n",
      "4\n",
      "5\n",
      "6\n",
      "7\n",
      "8\n",
      "9\n",
      "10\n"
     ]
    }
   ],
   "source": [
    "#define to print n natural numbers using while loop\n",
    "def natural(n):\n",
    "    i=0\n",
    "    while i < n:\n",
    "        i=i+1\n",
    "        print(i)\n",
    "natural(10)"
   ]
  },
  {
   "cell_type": "code",
   "execution_count": 106,
   "metadata": {},
   "outputs": [
    {
     "name": "stdout",
     "output_type": "stream",
     "text": [
      "102 108 114 120 126 132 138 144 150 156 162 168 174 180 186 192 198 "
     ]
    }
   ],
   "source": [
    "#function to print all numbers divisible by 6 and not a factor of 100 in a given \n",
    "# range(lb,ub) inclusive\n",
    "def allnum(lb,ub):\n",
    "    for i in range(lb,ub+1):\n",
    "        if(i%6==0 and i%100!=0):\n",
    "            print(i,end = \" \")\n",
    "allnum(100,200)\n"
   ]
  },
  {
   "cell_type": "code",
   "execution_count": 113,
   "metadata": {},
   "outputs": [
    {
     "name": "stdout",
     "output_type": "stream",
     "text": [
      "8.0\n"
     ]
    }
   ],
   "source": [
    "#function to find the average of cubes of all even numbers\n",
    "#in a given range(lb,ub) inclusive\n",
    "def avg_cube(lb,ub):\n",
    "    c=0\n",
    "    s=0\n",
    "    for i in range(lb,ub+1):\n",
    "        if i%2 == 0:\n",
    "            s=s+i**3\n",
    "            c=c+1\n",
    "    print(s/c)\n",
    "        \n",
    "avg_cube(1,3)"
   ]
  },
  {
   "cell_type": "code",
   "execution_count": 110,
   "metadata": {},
   "outputs": [
    {
     "name": "stdout",
     "output_type": "stream",
     "text": [
      "The factors of 12 are:\n",
      "1 2 3 4 6 12 "
     ]
    }
   ],
   "source": [
    "#function to generate the list of factors for given number\n",
    "#12 -->1 2 3 4 6 12\n",
    "def print_factors(x):\n",
    "   print(\"The factors of\",x,\"are:\")\n",
    "   for i in range(1, x + 1):\n",
    "       if x % i == 0:\n",
    "           print(i,end =\" \")\n",
    "print_factors(12)\n",
    "\n",
    "\"\"\"#sum of factors\n",
    "def print_factors(x):\n",
    "   print(\"The factors of\",x,\"are:\")\n",
    "   for i in range(1, x + 1):\n",
    "       if x % i == 0:\n",
    "           print(i,end =\" \")\n",
    "print_factors(12)\"\"\"\n"
   ]
  },
  {
   "cell_type": "code",
   "execution_count": 83,
   "metadata": {},
   "outputs": [
    {
     "name": "stdout",
     "output_type": "stream",
     "text": [
      "Input a number to compute the factiorial : 4\n",
      "24\n"
     ]
    }
   ],
   "source": [
    "#function to calculate the factorial of a given number\n",
    "def factorial(f):\n",
    "    if f == 0:\n",
    "        return 1\n",
    "    else:\n",
    "        return f * factorial(f-1)\n",
    "f=int(input(\"enter a factiorial no:\"))\n",
    "print(factorial(f))\n",
    "\n",
    "\"\"\"\n",
    "def fact(n):\n",
    "    f=1\n",
    "    for in range(2,n+1):\n",
    "        f "
   ]
  },
  {
   "cell_type": "code",
   "execution_count": 123,
   "metadata": {},
   "outputs": [
    {
     "data": {
      "text/plain": [
       "(11, 'it is a prime number')"
      ]
     },
     "execution_count": 123,
     "metadata": {},
     "output_type": "execute_result"
    }
   ],
   "source": [
    "#function to check given number is prime or not\n",
    "def prime(n):\n",
    "    for i in range(2, n):\n",
    "        if n % i == 0:\n",
    "            return(n, \"is not a prime number\")\n",
    "    return(n,\"it is a prime number\")\n",
    "prime(11)"
   ]
  },
  {
   "cell_type": "code",
   "execution_count": 130,
   "metadata": {},
   "outputs": [
    {
     "data": {
      "text/plain": [
       "6.5"
      ]
     },
     "execution_count": 130,
     "metadata": {},
     "output_type": "execute_result"
    }
   ],
   "source": [
    "#function to calculate the average first n prime numbers\n",
    "def avg_prime(n):\n",
    "    c=0\n",
    "    sum=0\n",
    "    seqc=2\n",
    "    while c<n:\n",
    "        if prime(seqc):\n",
    "            c=c+1\n",
    "            sum=sum+seqc\n",
    "        seqc +=1\n",
    "    return sum/n\n",
    "avg_prime(10)\n",
    "    \n",
    "    \n"
   ]
  },
  {
   "cell_type": "code",
   "execution_count": 21,
   "metadata": {},
   "outputs": [
    {
     "name": "stdout",
     "output_type": "stream",
     "text": [
      "525 524 523 522 521 520 519 518 517 516 515 514 513 512 511 510 509 508 507 506 505 504 503 502 501 "
     ]
    }
   ],
   "source": [
    "#function to print the alternative values in a range\n",
    "#[500,550]->inclusive   500 502 504 ......550\n",
    "#(500,550)->exclusive  501 503 505.....549\n",
    "\"\"\"def alternative():\n",
    "    for i in range(500,550+1):\n",
    "        if i%2==0:\n",
    "            print(i,end = \" \")\n",
    "        \n",
    "alternative()\n",
    "\n",
    "def alt(start,end):\n",
    "    for i in range(start,end+1,2):\n",
    "        print(i,end=\" \")\n",
    "    return\n",
    "alt()\"\"\"\n",
    "\n",
    "#reverse of agiven range\n",
    "def alt(start,end):\n",
    "    for i in range(end,start,-1):\n",
    "        #s=str(i)\n",
    "        print(i,end=\" \")\n",
    "    return\n",
    "alt(500,525)"
   ]
  },
  {
   "cell_type": "code",
   "execution_count": 36,
   "metadata": {},
   "outputs": [
    {
     "name": "stdout",
     "output_type": "stream",
     "text": [
      "9 7 5 3 1 "
     ]
    }
   ],
   "source": [
    "#function to print the odd number in a reverse order in a given range\n",
    "def reverse_odd(lb,ub):\n",
    "    for i in range(ub,lb-1,-1):\n",
    "        if i%2!=0:\n",
    "            print(i,end=\" \")\n",
    "    return\n",
    "reverse_odd(1,10)"
   ]
  },
  {
   "cell_type": "code",
   "execution_count": 37,
   "metadata": {},
   "outputs": [
    {
     "data": {
      "text/plain": [
       "15150"
      ]
     },
     "execution_count": 37,
     "metadata": {},
     "output_type": "execute_result"
    }
   ],
   "source": [
    "#function to calculate the sum of numbers in a range\n",
    "def sum_range(s,e):\n",
    "    sum=0\n",
    "    for i in range(s,e+1):\n",
    "        sum=sum+i\n",
    "    return sum\n",
    "sum_range(100,200)"
   ]
  },
  {
   "cell_type": "code",
   "execution_count": 42,
   "metadata": {},
   "outputs": [
    {
     "data": {
      "text/plain": [
       "3"
      ]
     },
     "execution_count": 42,
     "metadata": {},
     "output_type": "execute_result"
    }
   ],
   "source": [
    "#function to calculate the average in a range\n",
    "def avg_num(lb,ub):\n",
    "    sum=0\n",
    "    c=0\n",
    "    for i in range(lb,ub+1):\n",
    "        sum=sum+i\n",
    "        #c=c+1\n",
    "        \n",
    "    return sum//(ub-lb)\n",
    "avg_num(1,5)"
   ]
  },
  {
   "cell_type": "code",
   "execution_count": 55,
   "metadata": {},
   "outputs": [
    {
     "name": "stdout",
     "output_type": "stream",
     "text": [
      "2000 2004 2008 2012 2016 2020 "
     ]
    }
   ],
   "source": [
    "#function to generate all leap years in a given time period \n",
    "#2000 - 2020 ->2000 2004 2008 2012 2016 2020\n",
    "# Function to generate the leap year in a given time Period\n",
    "# 2000 -2020 ---> 2000 2004 2008 2012 2016 2020\n",
    "\n",
    "def lyear(year):\n",
    "   if year % 400 == 0 or (year % 100 != 0 and year % 4 == 0):\n",
    "       return True\n",
    "   return False\n",
    "  \n",
    "def generateLeapYears(startYr,endYr):\n",
    "  for year in range(startYr,endYr+1):\n",
    "      if lyear(year):\n",
    "          print(year,end=\" \")\n",
    "  return\n",
    "\n",
    "\n",
    "generateLeapYears(1919,2020)\n"
   ]
  },
  {
   "cell_type": "code",
   "execution_count": null,
   "metadata": {},
   "outputs": [],
   "source": [
    "# function to generate all perfect numbers in a given range\n"
   ]
  },
  {
   "cell_type": "code",
   "execution_count": null,
   "metadata": {},
   "outputs": [],
   "source": []
  },
  {
   "cell_type": "markdown",
   "metadata": {},
   "source": [
    "# Advanced Problem Set(optional)\n",
    "- Function to calculate average of all factorials in a given range\n",
    "- Function to generate N odd armstrong numbers\n",
    "- function to generate multiplication table\n",
    "   - 10 th table of range(100,101)"
   ]
  },
  {
   "cell_type": "code",
   "execution_count": 31,
   "metadata": {},
   "outputs": [
    {
     "data": {
      "text/plain": [
       "844"
      ]
     },
     "execution_count": 31,
     "metadata": {},
     "output_type": "execute_result"
    }
   ],
   "source": [
    "#Function to calculate average of all factorials in a given range\n",
    "\n",
    "def factorial(f):\n",
    "    fact=1\n",
    "    sum=0\n",
    "    c=0\n",
    "    for i in range(1,f+1):\n",
    "        fact=fact*i\n",
    "        sum=sum+fact\n",
    "        c=c+1\n",
    "        avg=sum//c\n",
    "    return avg\n",
    "factorial(7)"
   ]
  },
  {
   "cell_type": "code",
   "execution_count": 33,
   "metadata": {},
   "outputs": [
    {
     "name": "stdout",
     "output_type": "stream",
     "text": [
      "10 * 100 = 1000\n",
      "10 * 101 = 1010\n",
      "10 * 102 = 1020\n",
      "10 * 103 = 1030\n",
      "10 * 104 = 1040\n",
      "10 * 105 = 1050\n",
      "10 * 106 = 1060\n",
      "10 * 107 = 1070\n",
      "10 * 108 = 1080\n",
      "10 * 109 = 1090\n",
      "10 * 110 = 1100\n"
     ]
    }
   ],
   "source": [
    "def mtable(lb,ub):\n",
    "    m=10\n",
    "    for n in range(lb,ub+1):\n",
    "        print(m,\"*\",n,\"=\",m*n)\n",
    "    return\n",
    "mtable(100,110)"
   ]
  },
  {
   "cell_type": "code",
   "execution_count": 57,
   "metadata": {},
   "outputs": [
    {
     "data": {
      "text/plain": [
       "10950"
      ]
     },
     "execution_count": 57,
     "metadata": {},
     "output_type": "execute_result"
    }
   ],
   "source": [
    "#function to calculate no of days in a given time period of years\n",
    "def year_days(s,e):\n",
    "    days=0\n",
    "    for i in range (s,e+1):\n",
    "        if lyear(i)==str(i):#lyear is a funtion previously we defined above\n",
    "            days=days+366\n",
    "        else:\n",
    "            days=days+365\n",
    "    return days\n",
    "year_days(1990,2019)"
   ]
  },
  {
   "cell_type": "code",
   "execution_count": 82,
   "metadata": {},
   "outputs": [
    {
     "data": {
      "text/plain": [
       "205080"
      ]
     },
     "execution_count": 82,
     "metadata": {},
     "output_type": "execute_result"
    }
   ],
   "source": [
    "#function to calculate number of hours for a given period (month1,year1.month2,year2)\n",
    "#(11,1975,03,1999)\n",
    "#[all days from feb 2016 todec 2016,\n",
    "#  all days for years b/w 2016 and 2019,\n",
    "#    all days from jan to june 2019\n",
    "#\n",
    "# number of  hours(2,2017,6,2019)\n",
    "#no of hours = 24*noof days\n",
    "#3 steps\n",
    "    #1. start month year to end of d year--calculate no of \n",
    "    #2.calculate days for all years b/w start year to end year\n",
    "        #2017,2018*365 *\n",
    "    #3.calculate dasys from jan to end of the month\n",
    "# Excluding Feb\n",
    "# First six months - 1,3,4,5,6,7\n",
    "                    #All odd months have 31 days\n",
    "                    #All even months have 30 days\n",
    "#Last six months-- 8,9,10,11,12\n",
    "                    #All even months have 31 days\n",
    "                    #all months have 30 days\n",
    "#31 days -(month <= 7 and month%2!=0) and m%2!=0 and month 8 and lf \n",
    "                                   #   returm 13\n",
    "                                    #else\n",
    "                                        #return 30\n",
    "        \n",
    "        \n",
    "        \n",
    "        \n",
    "        \n",
    "def days_in_month(month,year):\n",
    "    if month==2:\n",
    "        if lyear(year):\n",
    "            return 29\n",
    "        return 28\n",
    "    elif (month<=7 and month%2!=0) or (month >=8 and month%2==0):\n",
    "        return 31\n",
    "    else:\n",
    "        return 30\n",
    "days_in_month(5,2019)\n",
    "\n",
    "\n",
    "def daysinstartyear(smonth,syear):\n",
    "    days=0\n",
    "    for m in range(smonth,13):\n",
    "        days+= days_in_month(smonth,syear)\n",
    "    return  days\n",
    "\n",
    "def daysinendyear(endmonth,endyear):\n",
    "    days=0\n",
    "    for month in range(1,endmonth+1):\n",
    "        days +=days_in_month(month,endyear)\n",
    "    return days\n",
    "\n",
    "def numberofhours(smonth,syear,endmonth,endyear):\n",
    "    days=0\n",
    "    days+=daysinstartyear(smonth,syear)\n",
    "    days+=daysinendyear(endmonth,endyear)\n",
    "    if endyear-syear == 2: #2019-2017\n",
    "        days+=year_days(syear+1,syear+1)\n",
    "    elif endyear-syear>2:\n",
    "        days+=year_days(syear+1,endyear-1)\n",
    "    return 24 * days\n",
    "numberofhours(11, 1975, 3,1999)"
   ]
  },
  {
   "cell_type": "code",
   "execution_count": 90,
   "metadata": {},
   "outputs": [
    {
     "data": {
      "text/plain": [
       "205104"
      ]
     },
     "execution_count": 90,
     "metadata": {},
     "output_type": "execute_result"
    }
   ],
   "source": [
    "# Function to calculate no of hours for a given period\n",
    "# (12 1993, 3,1999)\n",
    "# 2,2016 . 6,2019\n",
    "#  [All days from feb 2016 to dec 2016,\n",
    "#   all days for years between start and end,\n",
    "#   all days from Jan to June 2019]\n",
    "# No of hours = 24 * No of days\n",
    "# 3 steps\n",
    "   # 1. start month year to end of year - calculate no of \n",
    "   # 2. Calculate days for all years between start year \n",
    "       # 2017,2018 = 365 * no of years\n",
    "   # 3.calculate days from jan to end month year\n",
    "# Excluding Feb \n",
    "# First Six Months - 1,3,4,5,6\n",
    "                   # all Odd month have 31 days\n",
    "                   # All even months have 30 days\n",
    "# Last Six Months - 8,9,10,11,12\n",
    "                   # all even month have 31 days\n",
    "                   # All odd months have 30 days\n",
    "       \n",
    "# 31 days - (months <=7  and month % 2!= 0 and month != 2)|| (month >=8 and  )\n",
    "              # return 31\n",
    " #          else\n",
    "           \n",
    "#               return 30\n",
    "\n",
    "\n",
    "def numberofDaysMonth(month,year):\n",
    "   if month ==2:\n",
    "       if lyear(year):\n",
    "           return 29\n",
    "       return 28\n",
    "   elif (month <= 7 and month % 2!= 0) or (month>= 8 and month % 2 == 0):\n",
    "       return 31\n",
    "   else:\n",
    "       return 30\n",
    "     \n",
    "numberofDaysMonth(4, 2019)\n",
    "\n",
    "def daysinstartyear(startmonth,startyear):\n",
    "   days = 0\n",
    "   for month in range(startmonth,13):\n",
    "       days += numberofDaysMonth(month,startyear)\n",
    "   return days\n",
    "\n",
    "daysinstartyear(1,2020)\n",
    "\n",
    "def daysInEndYear(endmonth,endyear):\n",
    "   days=0\n",
    "   for month in range(1,endmonth+1):\n",
    "       days += numberofDaysMonth(month,endyear)\n",
    "   return days\n",
    "   \n",
    "daysInEndYear(2,2019)\n",
    "\n",
    "def numberOfHours(startmonth,startyear,endmonth,endyear):\n",
    "   days = 0\n",
    "   days += daysinstartyear(startmonth,startyear)\n",
    "   days += daysInEndYear(endmonth,endyear)\n",
    "   if endyear - startyear == 2: # 2019 -2017\n",
    "       days += year_days(startyear+1, startyear+1)\n",
    "   elif endyear - startyear > 2:\n",
    "       days += year_days(startyear+1, endyear-1)\n",
    "   return 24 * days\n",
    "\n",
    "numberOfHours(11,1975, 3,1999)    \n"
   ]
  },
  {
   "cell_type": "code",
   "execution_count": 80,
   "metadata": {},
   "outputs": [
    {
     "data": {
      "text/plain": [
       "True"
      ]
     },
     "execution_count": 80,
     "metadata": {},
     "output_type": "execute_result"
    }
   ],
   "source": [
    "#function to check armstorng number or not\n",
    "def armstorng(n):\n",
    "    s=0\n",
    "    l=len(n)\n",
    "    for i in n:\n",
    "        s=s+pow(int(i),l)\n",
    "    if(s==int(n)):\n",
    "        return True\n",
    "    else:\n",
    "        return False\n",
    "\n",
    "armstorng(str(153))"
   ]
  },
  {
   "cell_type": "code",
   "execution_count": 70,
   "metadata": {},
   "outputs": [
    {
     "name": "stdout",
     "output_type": "stream",
     "text": [
      "enter minimum value1\n",
      "enter maximum value500\n"
     ]
    },
    {
     "ename": "TypeError",
     "evalue": "object of type 'int' has no len()",
     "output_type": "error",
     "traceback": [
      "\u001b[1;31m---------------------------------------------------------------------------\u001b[0m",
      "\u001b[1;31mTypeError\u001b[0m                                 Traceback (most recent call last)",
      "\u001b[1;32m<ipython-input-70-ba231a0c7ccd>\u001b[0m in \u001b[0;36m<module>\u001b[1;34m\u001b[0m\n\u001b[0;32m      8\u001b[0m \u001b[0mm\u001b[0m\u001b[1;33m=\u001b[0m\u001b[0mint\u001b[0m\u001b[1;33m(\u001b[0m\u001b[0minput\u001b[0m\u001b[1;33m(\u001b[0m\u001b[1;34m\"enter minimum value\"\u001b[0m\u001b[1;33m)\u001b[0m\u001b[1;33m)\u001b[0m\u001b[1;33m\u001b[0m\u001b[1;33m\u001b[0m\u001b[0m\n\u001b[0;32m      9\u001b[0m \u001b[0mn\u001b[0m\u001b[1;33m=\u001b[0m\u001b[0mint\u001b[0m\u001b[1;33m(\u001b[0m\u001b[0minput\u001b[0m\u001b[1;33m(\u001b[0m\u001b[1;34m\"enter maximum value\"\u001b[0m\u001b[1;33m)\u001b[0m\u001b[1;33m)\u001b[0m\u001b[1;33m\u001b[0m\u001b[1;33m\u001b[0m\u001b[0m\n\u001b[1;32m---> 10\u001b[1;33m \u001b[0marm_storng\u001b[0m\u001b[1;33m(\u001b[0m\u001b[0mm\u001b[0m\u001b[1;33m,\u001b[0m\u001b[0mn\u001b[0m\u001b[1;33m)\u001b[0m\u001b[1;33m\u001b[0m\u001b[1;33m\u001b[0m\u001b[0m\n\u001b[0m",
      "\u001b[1;32m<ipython-input-70-ba231a0c7ccd>\u001b[0m in \u001b[0;36marm_storng\u001b[1;34m(m, n)\u001b[0m\n\u001b[0;32m      2\u001b[0m \u001b[1;32mdef\u001b[0m \u001b[0marm_storng\u001b[0m\u001b[1;33m(\u001b[0m\u001b[0mm\u001b[0m\u001b[1;33m,\u001b[0m\u001b[0mn\u001b[0m\u001b[1;33m)\u001b[0m\u001b[1;33m:\u001b[0m\u001b[1;33m\u001b[0m\u001b[1;33m\u001b[0m\u001b[0m\n\u001b[0;32m      3\u001b[0m     \u001b[1;32mfor\u001b[0m \u001b[0mi\u001b[0m \u001b[1;32min\u001b[0m \u001b[0mrange\u001b[0m\u001b[1;33m(\u001b[0m\u001b[0mm\u001b[0m\u001b[1;33m,\u001b[0m\u001b[0mn\u001b[0m\u001b[1;33m+\u001b[0m\u001b[1;36m1\u001b[0m\u001b[1;33m)\u001b[0m\u001b[1;33m:\u001b[0m\u001b[1;33m\u001b[0m\u001b[1;33m\u001b[0m\u001b[0m\n\u001b[1;32m----> 4\u001b[1;33m         \u001b[1;32mif\u001b[0m \u001b[1;33m(\u001b[0m\u001b[0marmstorng\u001b[0m\u001b[1;33m(\u001b[0m\u001b[0mi\u001b[0m\u001b[1;33m)\u001b[0m\u001b[1;33m==\u001b[0m\u001b[1;32mTrue\u001b[0m \u001b[1;32mand\u001b[0m \u001b[0mi\u001b[0m\u001b[1;33m%\u001b[0m\u001b[1;36m2\u001b[0m\u001b[1;33m==\u001b[0m\u001b[1;36m1\u001b[0m\u001b[1;33m)\u001b[0m \u001b[1;33m:\u001b[0m\u001b[1;33m\u001b[0m\u001b[1;33m\u001b[0m\u001b[0m\n\u001b[0m\u001b[0;32m      5\u001b[0m             \u001b[0mprint\u001b[0m\u001b[1;33m(\u001b[0m\u001b[0mi\u001b[0m\u001b[1;33m,\u001b[0m\u001b[0mend\u001b[0m\u001b[1;33m=\u001b[0m\u001b[1;34m\" \"\u001b[0m\u001b[1;33m)\u001b[0m\u001b[1;33m\u001b[0m\u001b[1;33m\u001b[0m\u001b[0m\n\u001b[0;32m      6\u001b[0m         \u001b[1;32melse\u001b[0m\u001b[1;33m:\u001b[0m\u001b[1;33m\u001b[0m\u001b[1;33m\u001b[0m\u001b[0m\n",
      "\u001b[1;32m<ipython-input-69-e6fd14551823>\u001b[0m in \u001b[0;36marmstorng\u001b[1;34m(n)\u001b[0m\n\u001b[0;32m      2\u001b[0m \u001b[1;32mdef\u001b[0m \u001b[0marmstorng\u001b[0m\u001b[1;33m(\u001b[0m\u001b[0mn\u001b[0m\u001b[1;33m)\u001b[0m\u001b[1;33m:\u001b[0m\u001b[1;33m\u001b[0m\u001b[1;33m\u001b[0m\u001b[0m\n\u001b[0;32m      3\u001b[0m     \u001b[0ms\u001b[0m\u001b[1;33m=\u001b[0m\u001b[1;36m0\u001b[0m\u001b[1;33m\u001b[0m\u001b[1;33m\u001b[0m\u001b[0m\n\u001b[1;32m----> 4\u001b[1;33m     \u001b[0ml\u001b[0m\u001b[1;33m=\u001b[0m\u001b[0mlen\u001b[0m\u001b[1;33m(\u001b[0m\u001b[0mn\u001b[0m\u001b[1;33m)\u001b[0m\u001b[1;33m\u001b[0m\u001b[1;33m\u001b[0m\u001b[0m\n\u001b[0m\u001b[0;32m      5\u001b[0m     \u001b[1;32mfor\u001b[0m \u001b[0mi\u001b[0m \u001b[1;32min\u001b[0m \u001b[0mn\u001b[0m\u001b[1;33m:\u001b[0m\u001b[1;33m\u001b[0m\u001b[1;33m\u001b[0m\u001b[0m\n\u001b[0;32m      6\u001b[0m         \u001b[0ms\u001b[0m\u001b[1;33m=\u001b[0m\u001b[0ms\u001b[0m\u001b[1;33m+\u001b[0m\u001b[0mpow\u001b[0m\u001b[1;33m(\u001b[0m\u001b[0mint\u001b[0m\u001b[1;33m(\u001b[0m\u001b[0mi\u001b[0m\u001b[1;33m)\u001b[0m\u001b[1;33m,\u001b[0m\u001b[0ml\u001b[0m\u001b[1;33m)\u001b[0m\u001b[1;33m\u001b[0m\u001b[1;33m\u001b[0m\u001b[0m\n",
      "\u001b[1;31mTypeError\u001b[0m: object of type 'int' has no len()"
     ]
    }
   ],
   "source": [
    "#function to generate armstong number in a given range\n",
    "def arm_storng(m,n):\n",
    "    for i in range(m,n+1):\n",
    "        if (armstorng(i)==True and i%2==1) :\n",
    "            print(i,end=\" \")\n",
    "        else:\n",
    "            continue\n",
    "m=int(input(\"enter minimum value\"))\n",
    "n=int(input(\"enter maximum value\"))\n",
    "arm_storng(m,n)"
   ]
  },
  {
   "cell_type": "markdown",
   "metadata": {},
   "source": [
    "##### "
   ]
  }
 ],
 "metadata": {
  "kernelspec": {
   "display_name": "Python 3",
   "language": "python",
   "name": "python3"
  },
  "language_info": {
   "codemirror_mode": {
    "name": "ipython",
    "version": 3
   },
   "file_extension": ".py",
   "mimetype": "text/x-python",
   "name": "python",
   "nbconvert_exporter": "python",
   "pygments_lexer": "ipython3",
   "version": "3.7.3"
  }
 },
 "nbformat": 4,
 "nbformat_minor": 2
}
