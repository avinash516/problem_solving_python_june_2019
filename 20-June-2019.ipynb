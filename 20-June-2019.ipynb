{
 "cells": [
  {
   "cell_type": "markdown",
   "metadata": {},
   "source": [
    "### Regular Expressions\n",
    "\n",
    "- Pattren Matching\n",
    "- Symbolic Notation of a pattren\n",
    "        \n",
    "            - Pattren : Format which repeats\n",
    "            - Pattren(RE) represents the set of all values\n",
    "            \n",
    "            \n",
    "\n",
    "- [0-9]                                    --> Any digit\n",
    "\n",
    "- [a-z]                                    --> Any lower case alphabet\n",
    "\n",
    "- [2468]                                   --> All single digit multiples of 2\n",
    "\n",
    "- ^[0-9]{1}$                               --> Matches only single digit\n",
    "\n",
    "- ^[1-9][0-9]*0$                           --> All multiples of 10 \n",
    "\n",
    "- ^[1-9][0-9]*[05]{1}$                     -->All mulitples 0f 5\n",
    "\n",
    "- ^[0-9]{10}$                              -->All 10 digit numbers\n",
    "\n",
    "- ^[9876][0-9]{9}$                         --> Validating Indain Phone numbers starts with 9876 and the length                                                     should be 10 digits\n",
    "\n",
    "- [w][o][r][d]                             -->Searching for a word\n",
    "\n",
    "- ^[a-z][a-z0-9.]+@[a-z.]+[a-z]+           -->Emai validation\n",
    "\n",
    "\n",
    "\n",
    "\n",
    "### Email Validation specifications\n",
    "     \n",
    "     \n",
    "     *USername*\n",
    "        - Length of username : [6,15]\n",
    "        - No special characters other than _ .\n",
    "        - Should not begin with _.\n",
    "        - Character Set: All digits and alphabets\n",
    "     *Domain*\n",
    "        - Length of domain   : [3,18]\n",
    "        - No special characters\n",
    "        - Character Set : All digits and alphabets\n",
    "     *Extension*\n",
    "        - Lenth of extension : [2,4]\n",
    "        - No special character\n",
    "        - Character Set : All digits and alphabets\n",
    "        \n",
    "###  ^[a-z0-9][a-z0-9._]{4,13}[a-z0-9][@][a-z0-9.]{3,18}[a-z]{2,4} \n",
    "\n",
    "\n",
    "^[a]...[z]$                               ---> Any string of length 5 starting with a and ending with z"
   ]
  },
  {
   "cell_type": "code",
   "execution_count": 27,
   "metadata": {},
   "outputs": [
    {
     "name": "stdout",
     "output_type": "stream",
     "text": [
      "9705928369\n",
      "venkatagopi.m@apssdc.in\n"
     ]
    },
    {
     "data": {
      "text/plain": [
       "'is valid'"
      ]
     },
     "execution_count": 27,
     "metadata": {},
     "output_type": "execute_result"
    }
   ],
   "source": [
    "# Function to validate a mobile number\n",
    "import re\n",
    "\n",
    "def Validator(num,email):\n",
    "    mobile_pattren = \"^[06789][0-9]{9}$\"\n",
    "    email_pattren = \"^[a-z0-9][a-z0-9._]{4,13}[a-z0-9][@][a-z0-9.]{3,18}[a-z]{2,4}\"\n",
    "    if(re.match(mobile_pattren, num)):\n",
    "        if(re.match(email_pattren,email)):\n",
    "            return \"is valid\"\n",
    "        else:\n",
    "            return \"email is invalid\"\n",
    "    else:\n",
    "        return \"mobile is invalid\"\n",
    "\n",
    "#num = input()\n",
    "\n",
    "#email = input()\n",
    "       \n",
    "#Validator(num,email)\n",
    "\n"
   ]
  },
  {
   "cell_type": "code",
   "execution_count": 3,
   "metadata": {},
   "outputs": [],
   "source": [
    "contacts = {}\n",
    "\n",
    "def addContact(name,number,email):\n",
    "    if(name not in contacts):\n",
    "        if(Validator(number,email)==\"is valid\"):\n",
    "            contacts[name]=[number,email]\n",
    "        else:\n",
    "            return \"Invalid mobile or email entered\"\n",
    "    else:\n",
    "        return \"Contact already exists\"\n",
    "        \n"
   ]
  },
  {
   "cell_type": "code",
   "execution_count": 7,
   "metadata": {},
   "outputs": [],
   "source": [
    "def listContacts():\n",
    "    for user in contacts.items():\n",
    "        print(user[0])\n",
    "        print(\"mobile:\",user[1][0])\n",
    "        print(\"email:\",user[1][1])\n",
    "        \n",
    "            \n",
    "    "
   ]
  },
  {
   "cell_type": "code",
   "execution_count": 8,
   "metadata": {},
   "outputs": [
    {
     "name": "stdout",
     "output_type": "stream",
     "text": [
      "venkatagopi\n",
      "mobile: 9705928369\n",
      "email: venkatagopi894@gmail.com\n"
     ]
    }
   ],
   "source": [
    "listContacts()"
   ]
  },
  {
   "cell_type": "code",
   "execution_count": null,
   "metadata": {},
   "outputs": [],
   "source": [
    "addContact(\"venkatagopi\",\"9705928369\",\"venkatagopi894@gmail.com\")"
   ]
  },
  {
   "cell_type": "code",
   "execution_count": 6,
   "metadata": {},
   "outputs": [
    {
     "data": {
      "text/plain": [
       "{'venkatagopi': ['9705928369', 'venkatagopi894@gmail.com']}"
      ]
     },
     "execution_count": 6,
     "metadata": {},
     "output_type": "execute_result"
    }
   ],
   "source": [
    "contacts"
   ]
  },
  {
   "cell_type": "markdown",
   "metadata": {},
   "source": [
    "### File Handling in Python\n",
    "\n",
    "**File** - Document containing information residing\n",
    "\n",
    "**Type** - Text, PDF, CSV etc\n",
    "\n",
    "**File I/O** - Channelling I/O data to files\n",
    "\n",
    "**Default I/O** - Channels - Keyboard / Screen\n",
    "\n",
    "**Change I/O Channel** - to files for reading and writing\n",
    "\n",
    "**Read a file** - Input from file\n",
    "\n",
    "**Write to a file** - Output from file\n",
    "\n",
    "**Read** - file_obj = open(filename,'r')\n",
    "\n",
    "**Write**- file_obj.write(text)\n",
    "\n",
    "**Close**-After writing into file later it should be closed file_object.close()\n"
   ]
  },
  {
   "cell_type": "code",
   "execution_count": null,
   "metadata": {},
   "outputs": [],
   "source": []
  },
  {
   "cell_type": "code",
   "execution_count": 68,
   "metadata": {},
   "outputs": [],
   "source": [
    "# Functions to  read,write & append a file\n",
    "\n",
    "def readFile(filename):\n",
    "    f = open(\"Datafiles/\"+filename, 'r')\n",
    "    #filedata = f.read().strip()\n",
    "    for line in f:\n",
    "        print(line.strip())\n",
    "    f.close()\n",
    "    return\n",
    "\n",
    "def writeFile(filename):\n",
    "    f = open(\"Datafiles/\"+filename, 'w')\n",
    "    data = input()\n",
    "    f.write(data)\n",
    "    f.close()\n",
    "    return\n",
    "\n",
    "def appendFile(filename):\n",
    "    f = open(\"Datafiles/\"+filename, 'a')\n",
    "    data = input()\n",
    "    f.write(\"\\n\"+data)\n",
    "    f.close()\n",
    "    return"
   ]
  },
  {
   "cell_type": "code",
   "execution_count": null,
   "metadata": {},
   "outputs": [],
   "source": []
  },
  {
   "cell_type": "code",
   "execution_count": 1,
   "metadata": {},
   "outputs": [
    {
     "ename": "NameError",
     "evalue": "name 'contacts' is not defined",
     "output_type": "error",
     "traceback": [
      "\u001b[1;31m---------------------------------------------------------------------------\u001b[0m",
      "\u001b[1;31mNameError\u001b[0m                                 Traceback (most recent call last)",
      "\u001b[1;32m<ipython-input-1-ce56011d51e9>\u001b[0m in \u001b[0;36m<module>\u001b[1;34m\u001b[0m\n\u001b[0;32m      7\u001b[0m     \u001b[0mf\u001b[0m\u001b[1;33m.\u001b[0m\u001b[0mclose\u001b[0m\u001b[1;33m(\u001b[0m\u001b[1;33m)\u001b[0m\u001b[1;33m\u001b[0m\u001b[1;33m\u001b[0m\u001b[0m\n\u001b[0;32m      8\u001b[0m \u001b[1;33m\u001b[0m\u001b[0m\n\u001b[1;32m----> 9\u001b[1;33m \u001b[0mwritingContacts\u001b[0m\u001b[1;33m(\u001b[0m\u001b[0mcontacts\u001b[0m\u001b[1;33m)\u001b[0m\u001b[1;33m\u001b[0m\u001b[1;33m\u001b[0m\u001b[0m\n\u001b[0m",
      "\u001b[1;31mNameError\u001b[0m: name 'contacts' is not defined"
     ]
    }
   ],
   "source": [
    "# Function to write contacts application data in to file\n",
    "\n",
    "def writingContacts(contacts):\n",
    "    f = open(\"DataFiles/contact.txt\",'a')\n",
    "    for user in contacts.items():\n",
    "        f.write(user[0]+\",\"+user[1][0]+\",\"+user[1][1]+\"\\n\")\n",
    "    f.close()\n",
    "        \n",
    "writingContacts(contacts)"
   ]
  },
  {
   "cell_type": "code",
   "execution_count": 17,
   "metadata": {},
   "outputs": [
    {
     "name": "stdout",
     "output_type": "stream",
     "text": [
      "sairam\n",
      "Name not found\n",
      "sairam\n",
      "Mobile: 8989766723\n",
      "Email: sairam.d@apssdc.in\n"
     ]
    }
   ],
   "source": [
    "def searchContacts(filename):\n",
    "    f = open(\"DataFiles/\"+filename,\"r\")\n",
    "    name = input()\n",
    "    for line in f:\n",
    "        line = line.strip()\n",
    "        words = line.split(',')\n",
    "        if name in words:\n",
    "            print(words[0]+\"\\n\"+\"Mobile: \"+words[1]+\"\\n\"+\"Email: \"+words[2])\n",
    "        else:\n",
    "            continue\n",
    "    f.close()\n",
    "searchContacts(\"contact.txt\")"
   ]
  },
  {
   "cell_type": "code",
   "execution_count": 7,
   "metadata": {},
   "outputs": [
    {
     "name": "stdout",
     "output_type": "stream",
     "text": [
      "sairam\n",
      "9878877898\n",
      "sairam.d@apssdc.in\n"
     ]
    },
    {
     "data": {
      "text/plain": [
       "'Data Updated Successfully..!!'"
      ]
     },
     "execution_count": 7,
     "metadata": {},
     "output_type": "execute_result"
    }
   ],
   "source": [
    "from packages.dataValidator import Validator\n",
    "def modifyContacts(filename):\n",
    "    f = open(\"DataFiles/\"+filename,\"r\")\n",
    "    name = input()\n",
    "    updated_data = {}\n",
    "    for line in f:\n",
    "        line = line.strip()\n",
    "        words = line.split(',')\n",
    "        if(name in words):\n",
    "            phno = input()\n",
    "            email = input()\n",
    "            if(Validator(phno,email)==\"is valid\"):\n",
    "                words[1] = phno\n",
    "                words[2] = email\n",
    "                updated_data[words[0]]=[words[1],words[2]]\n",
    "            else:\n",
    "                print(\"Enter valid phone or email\")\n",
    "            \n",
    "        else:\n",
    "            updated_data[words[0]]=[words[1],words[2]]\n",
    "            continue\n",
    "    f.close()\n",
    "    f = open('DataFiles/'+filename,'w')\n",
    "    for record in updated_data.items():\n",
    "        f.write(record[0]+\",\"+record[1][0]+\",\"+record[1][1]+\"\\n\")\n",
    "    f.close()\n",
    "    return \"Data Updated Successfully..!!\"\n",
    "\n",
    "    \n",
    "    \n",
    "modifyContacts(\"contact.txt\")\n",
    "    \n",
    "            \n",
    "        \n",
    "        \n",
    "    "
   ]
  },
  {
   "cell_type": "code",
   "execution_count": null,
   "metadata": {},
   "outputs": [],
   "source": []
  }
 ],
 "metadata": {
  "kernelspec": {
   "display_name": "Python 3",
   "language": "python",
   "name": "python3"
  },
  "language_info": {
   "codemirror_mode": {
    "name": "ipython",
    "version": 3
   },
   "file_extension": ".py",
   "mimetype": "text/x-python",
   "name": "python",
   "nbconvert_exporter": "python",
   "pygments_lexer": "ipython3",
   "version": "3.7.3"
  }
 },
 "nbformat": 4,
 "nbformat_minor": 2
}
