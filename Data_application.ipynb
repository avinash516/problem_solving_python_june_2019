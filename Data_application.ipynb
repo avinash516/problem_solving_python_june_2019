{
 "cells": [
  {
   "cell_type": "code",
   "execution_count": null,
   "metadata": {},
   "outputs": [],
   "source": []
  },
  {
   "cell_type": "code",
   "execution_count": 3,
   "metadata": {},
   "outputs": [
    {
     "name": "stdout",
     "output_type": "stream",
     "text": [
      "hello r u welcome hiiii how hjhhj "
     ]
    }
   ],
   "source": [
    "#finding unique word count\n",
    "def uniquewordcount(file):\n",
    "    un=[]\n",
    "    with open(file) as d:\n",
    "        for i in d:\n",
    "            i=i.strip().split()\n",
    "            for uwords in i:\n",
    "                if (i.count(uwords)==1)and (uwords not in un):\n",
    "                    un.append(uwords)\n",
    "                else:\n",
    "                    continue\n",
    "        for k in un:\n",
    "            print(k,end=\" \")\n",
    "file='files/data.txt'\n",
    "uniquewordcount(file)"
   ]
  },
  {
   "cell_type": "code",
   "execution_count": 4,
   "metadata": {},
   "outputs": [
    {
     "data": {
      "text/plain": [
       "34"
      ]
     },
     "execution_count": 4,
     "metadata": {},
     "output_type": "execute_result"
    }
   ],
   "source": [
    "#finding charecter count in a file\n",
    "def charcount(file):\n",
    "    c=0\n",
    "    with open(file) as h:\n",
    "        for i in h:\n",
    "            w=i.strip().split()\n",
    "            for j in w:\n",
    "                c+=len(j)\n",
    "        return c\n",
    "file='files/data.txt'\n",
    "charcount(file)"
   ]
  },
  {
   "cell_type": "code",
   "execution_count": 5,
   "metadata": {},
   "outputs": [
    {
     "name": "stdout",
     "output_type": "stream",
     "text": [
      "0.034KB\n"
     ]
    }
   ],
   "source": [
    "#file size finding\n",
    "def filesize():\n",
    "    ch=charcount('files/data.txt')\n",
    "    #ch=int(ch)\n",
    "    if ch==1000:\n",
    "        print(\"1kb\")\n",
    "    elif ch < 1000 or ch > 1000:\n",
    "        k=ch/1000\n",
    "        print(str(k)+\"KB\")\n",
    "filesize()"
   ]
  },
  {
   "cell_type": "code",
   "execution_count": 6,
   "metadata": {},
   "outputs": [
    {
     "name": "stdout",
     "output_type": "stream",
     "text": [
      "10\n"
     ]
    }
   ],
   "source": [
    "def wordcount(file):\n",
    "    c=0\n",
    "    with open(file) as h:\n",
    "        for i in h:\n",
    "            w=i.strip().split()\n",
    "            c+=len(w)\n",
    "        print(c)\n",
    "file='files/data.txt'\n",
    "wordcount(file)"
   ]
  },
  {
   "cell_type": "code",
   "execution_count": 7,
   "metadata": {},
   "outputs": [
    {
     "name": "stdout",
     "output_type": "stream",
     "text": [
      "4\n"
     ]
    }
   ],
   "source": [
    "#finding the line count in a file\n",
    "def linecount(file):\n",
    "    with open(file,'r') as f:\n",
    "        c=f.read().splitlines()\n",
    "        d=len(c)\n",
    "        print(d)\n",
    "file='files/data.txt'\n",
    "linecount(file)"
   ]
  },
  {
   "cell_type": "code",
   "execution_count": null,
   "metadata": {},
   "outputs": [],
   "source": []
  }
 ],
 "metadata": {
  "kernelspec": {
   "display_name": "Python 3",
   "language": "python",
   "name": "python3"
  },
  "language_info": {
   "codemirror_mode": {
    "name": "ipython",
    "version": 3
   },
   "file_extension": ".py",
   "mimetype": "text/x-python",
   "name": "python",
   "nbconvert_exporter": "python",
   "pygments_lexer": "ipython3",
   "version": "3.7.3"
  }
 },
 "nbformat": 4,
 "nbformat_minor": 2
}
