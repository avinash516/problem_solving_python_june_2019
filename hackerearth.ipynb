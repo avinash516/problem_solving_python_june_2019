{
 "cells": [
  {
   "cell_type": "code",
   "execution_count": null,
   "metadata": {},
   "outputs": [],
   "source": [
    "n=\"1401601499\"\n",
    "\n",
    "if len(n)== 10:\n",
    "    s=0\n",
    "    c=1\n",
    "    #print(\"invalid range\")\n",
    "    for i in range(0,len(n)):\n",
    "    #if len(n) == 10:\n",
    "        l=int(n[i])*c\n",
    "        \n",
    "        s=s+l\n",
    "        c+=1\n",
    "        #print(s)\n",
    "        if s%11 == 0:\n",
    "            print(\"legal\")\n",
    "            break\n",
    "else:\n",
    "    print(\"invalid range given\")\n",
    "\n",
    "       "
   ]
  },
  {
   "cell_type": "code",
   "execution_count": null,
   "metadata": {},
   "outputs": [],
   "source": []
  },
  {
   "cell_type": "code",
   "execution_count": 24,
   "metadata": {},
   "outputs": [
    {
     "name": "stdout",
     "output_type": "stream",
     "text": [
      "1401601491\n",
      "Illegal ISBN\n"
     ]
    }
   ],
   "source": [
    "n=input()\n",
    "\n",
    "sum=0\n",
    "\n",
    "if len(n)== 10:\n",
    "    #print(\"invalid range\")\n",
    "    for i, values in enumerate(n):\n",
    "        values=int(values)\n",
    "    \n",
    "        sum= sum+(i+1)*values\n",
    "    if sum%11 == 0:\n",
    "        print(\"Legal ISBN\")\n",
    "    else:\n",
    "        print(\"Illegal ISBN\")\n",
    "else:\n",
    "    print(\"Illegal ISBN\")"
   ]
  },
  {
   "cell_type": "code",
   "execution_count": 33,
   "metadata": {},
   "outputs": [
    {
     "name": "stdout",
     "output_type": "stream",
     "text": [
      "13\n",
      "Patlu\n"
     ]
    }
   ],
   "source": [
    "\"\"\"def patluMotu(n):\n",
    "    N = 0\n",
    "    i =1\n",
    "    while (n > (3*i)):\n",
    "        N = n-(3*i)\n",
    "        i = i+1\n",
    "    if (N>i):\n",
    "        print(\"Motu\")\n",
    "    else:\n",
    "        print(\"Patlu\")\n",
    "n = int(input())\n",
    "patluMotu(n)\"\"\"\n",
    "\n"
   ]
  },
  {
   "cell_type": "code",
   "execution_count": null,
   "metadata": {},
   "outputs": [],
   "source": [
    "#"
   ]
  },
  {
   "cell_type": "code",
   "execution_count": null,
   "metadata": {},
   "outputs": [],
   "source": [
    "addcontacts():\n"
   ]
  },
  {
   "cell_type": "code",
   "execution_count": null,
   "metadata": {},
   "outputs": [],
   "source": [
    "n=int(input())\n",
    "i=1\n",
    "s=0\n",
    "for h in range(1,n):\n",
    "    if h "
   ]
  }
 ],
 "metadata": {
  "kernelspec": {
   "display_name": "Python 3",
   "language": "python",
   "name": "python3"
  },
  "language_info": {
   "codemirror_mode": {
    "name": "ipython",
    "version": 3
   },
   "file_extension": ".py",
   "mimetype": "text/x-python",
   "name": "python",
   "nbconvert_exporter": "python",
   "pygments_lexer": "ipython3",
   "version": "3.7.3"
  }
 },
 "nbformat": 4,
 "nbformat_minor": 2
}
