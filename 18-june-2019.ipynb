{
 "cells": [
  {
   "cell_type": "code",
   "execution_count": 2,
   "metadata": {},
   "outputs": [
    {
     "name": "stdout",
     "output_type": "stream",
     "text": [
      "aZ6$\n",
      "1\n",
      "2\n"
     ]
    }
   ],
   "source": [
    "#write a function to count no of digits and alphabets in a given string\n",
    "def countdigits(n):\n",
    "    c=0\n",
    "    s=0\n",
    "    for i in n:\n",
    "        if i.isdigit():\n",
    "            c=c+1\n",
    "        elif i.isalpha():\n",
    "            s=s+1\n",
    "    print(c)\n",
    "    print(s)\n",
    "n=input()\n",
    "countdigits(n)\n",
    "\n"
   ]
  },
  {
   "cell_type": "code",
   "execution_count": null,
   "metadata": {},
   "outputs": [
    {
     "name": "stdout",
     "output_type": "stream",
     "text": [
      "500000 500000\n"
     ]
    }
   ],
   "source": [
    "#play with numbers\n",
    "n = input().split()\n",
    "n[0], n[1] = int(n[0]), int(n[1])\n",
    "# Read array elements\n",
    "a = input().split()\n",
    "sum = [] # Intilize cumlative sum array\n",
    "# Cumulative Sum\n",
    "for i in range(0,n[0]):\n",
    "   if i == 0:\n",
    "       sum.append(int(a[i]))\n",
    "   else:\n",
    "       sum.append(int(sum[i-1])+ int(a[i]))\n",
    "       \n",
    "#print(sum[n[0]-1])\n",
    "for k in range(0,n[1]):\n",
    "   inq = input().split()\n",
    "   i = int(inq[0])\n",
    "   j = int(inq[1])\n",
    "   if i > 1:\n",
    "       print((sum[j-1] - sum[i-2]) // (j-i+1))\n",
    "   else:\n",
    "       print(sum[j-1] // (j-1+1))"
   ]
  },
  {
   "cell_type": "code",
   "execution_count": 10,
   "metadata": {},
   "outputs": [
    {
     "data": {
      "text/plain": [
       "True"
      ]
     },
     "execution_count": 10,
     "metadata": {},
     "output_type": "execute_result"
    }
   ],
   "source": [
    "#Function to determine if a number is special number or not\n",
    "def isSpecialNumber(n, p):\n",
    "   if noofPrimeFactors(n) >= p:\n",
    "       return True\n",
    "   return False\n",
    "# Function to check if number is Prime\n",
    "def isprime(n):\n",
    "   flag = 1\n",
    "   if n == 2:\n",
    "       return True\n",
    "   for i in range(2,n//2+1):\n",
    "       if n % i ==0:\n",
    "           flag = 0\n",
    "           return False\n",
    "   if flag == 1:\n",
    "       return True\n",
    "#isprime(14)\n",
    "# function to determine number of prime factors for a given number\n",
    "def noofPrimeFactors(n):\n",
    "   if isprime(n):\n",
    "       return 1\n",
    "   count = 0\n",
    "   for i in range(2,n // 2 + 1):\n",
    "       if isprime(i) and n % i == 0:\n",
    "           count += 1\n",
    "   return count\n",
    "#noofPrimeFactors(30)\n",
    "#isSpecialNumber(30, 2)\n",
    "def solution2():\n",
    "   p =int(input())\n",
    "   t =int(input())\n",
    "   for i in range(0,t):\n",
    "       if isSpecialNumber(n,p):\n",
    "           print(\"YES\")\n",
    "       else:\n",
    "           print(\"NO\")\n",
    "isSpecialNumber(10, 2)"
   ]
  },
  {
   "cell_type": "code",
   "execution_count": 14,
   "metadata": {},
   "outputs": [],
   "source": [
    "# Highest Remainder(Hackerearth programmes)\n",
    "def highestRemainder(n):\n",
    "    hr = 0\n",
    "    v = n\n",
    "    for i in range(n-1,n // 2 + 1):\n",
    "        r = n % i\n",
    "        if r > hr:\n",
    "            hr = r\n",
    "            v = i\n",
    "        print(v)\n",
    "        return\n",
    "highestRemainder(5)        "
   ]
  },
  {
   "cell_type": "markdown",
   "metadata": {},
   "source": [
    "## Tuples\n",
    "t1=()\n",
    "Difference b/w Lists and Tuples\n",
    "- Used to access ,modify,add,Delete \n",
    "- lists are mutable---can be changed or Modified\n",
    "- tuples are immutable--can't be changed\n",
    "- Used to Access data only\n",
    "- All slicing Work\n"
   ]
  },
  {
   "cell_type": "code",
   "execution_count": 17,
   "metadata": {},
   "outputs": [
    {
     "data": {
      "text/plain": [
       "(8, 6, 0)"
      ]
     },
     "execution_count": 17,
     "metadata": {},
     "output_type": "execute_result"
    }
   ],
   "source": [
    "t1=(1,2,3,8,6,0)\n",
    "t1[3]# Accesing the fourth element\n",
    "#Accessing all elements from middle\n",
    "t1[3::]\n",
    "t1[len(t1)//2:]\n"
   ]
  },
  {
   "cell_type": "markdown",
   "metadata": {},
   "source": [
    "## Dictionaries"
   ]
  },
  {
   "cell_type": "code",
   "execution_count": 25,
   "metadata": {},
   "outputs": [
    {
     "data": {
      "text/plain": [
       "{'k1': 'value1', 'k2': 'value2', 'k4': 'value4'}"
      ]
     },
     "execution_count": 25,
     "metadata": {},
     "output_type": "execute_result"
    }
   ],
   "source": [
    "d1={\"k1\":\"value1\",\"k2\":\"value2\"}\n",
    "d1[\"k1\"]\n",
    "d1.keys()#returns all keys in a dictionary\n",
    "d1.values()#returns all values\n",
    "d1.items()#returns list of tuples of keys and values\n",
    "d1[\"k3\"]=\"value3\"\n",
    "d1[\"k4\"]=\"value4\"\n",
    "d1.pop(\"k3\")\n",
    "d1\n"
   ]
  },
  {
   "cell_type": "markdown",
   "metadata": {},
   "source": [
    "# ContactsApplication\n",
    "- Add Contact\n",
    "- Search for Contact\n",
    "- List All contacts\n",
    "- Modify Contacts\n",
    "- Remove Contacts\n",
    "- import contacts"
   ]
  },
  {
   "cell_type": "code",
   "execution_count": 65,
   "metadata": {},
   "outputs": [
    {
     "name": "stdout",
     "output_type": "stream",
     "text": [
      "contact avinash added\n",
      "contact raviiiii added\n"
     ]
    },
    {
     "data": {
      "text/plain": [
       "{'avinash': '8756654320', 'raviiiii': '89065432034'}"
      ]
     },
     "execution_count": 65,
     "metadata": {},
     "output_type": "execute_result"
    }
   ],
   "source": [
    "\"\"\"contacts={}\n",
    "def addcontact(name,phone):\n",
    "    #verify that the contact doesnot already exit\n",
    "    if name not in contacts:\n",
    "        contacts[name]=phone\n",
    "    else:\n",
    "        print(\"contacts %s already exits\"% name)\n",
    "    return\n",
    "addcontact(\"nmae5\",\"99567889878\")\"\"\"\n",
    "contacts = {}\n",
    "def addContacts(name, phone):\n",
    "   if name not in contacts:\n",
    "       contacts[name] = phone\n",
    "       print(\"contact %s added\" % name)\n",
    "   else:\n",
    "       print(\"Contacts %s already exists\" % name)\n",
    "   return\n",
    "\n",
    "\n",
    "addContacts(\"avinash\",\"8756654320\")\n",
    "addContacts(\"raviiiii\",\"89065432034\")\n",
    "contacts\n"
   ]
  },
  {
   "cell_type": "code",
   "execution_count": 29,
   "metadata": {},
   "outputs": [
    {
     "name": "stdout",
     "output_type": "stream",
     "text": [
      "name10 does not exit\n"
     ]
    }
   ],
   "source": [
    "def searchcontacts(name):\n",
    "    if name in contacts:\n",
    "        print(name,\":\",contacts[name])\n",
    "    else:\n",
    "        print(\"%s does not exit\" % name)\n",
    "searchcontacts(\"name10\")"
   ]
  },
  {
   "cell_type": "code",
   "execution_count": 46,
   "metadata": {},
   "outputs": [
    {
     "name": "stdout",
     "output_type": "stream",
     "text": [
      "{'nmae2': '1234567889', 'name2': 87854945876, 'name3': 858675885}\n"
     ]
    }
   ],
   "source": [
    "def listall():\n",
    "    if contacts:\n",
    "        print(contacts)\n",
    "        \n",
    "listall()"
   ]
  },
  {
   "cell_type": "code",
   "execution_count": 57,
   "metadata": {},
   "outputs": [
    {
     "name": "stdout",
     "output_type": "stream",
     "text": [
      "2\n"
     ]
    }
   ],
   "source": [
    "def importcontacts(newcontacts):\n",
    "    contacts.update(newcontacts)\n",
    "    print(len(newcontacts.keys()))\n",
    "    return\n",
    "#newcontacts={\"name2\":87854945876,\"name3\":858675885}\n",
    "importcontacts(contacts)"
   ]
  },
  {
   "cell_type": "code",
   "execution_count": 47,
   "metadata": {},
   "outputs": [
    {
     "name": "stdout",
     "output_type": "stream",
     "text": [
      "enter number8984748864\n",
      "8984748864 modified\n",
      "{'nmae2': '1234567889', 'name2': 8984748864, 'name3': 858675885}\n"
     ]
    }
   ],
   "source": [
    "def update(name):\n",
    "    if name in contacts:\n",
    "        phone=int(input(\"enter number\"))\n",
    "        contacts[name]=phone\n",
    "        print(\"%s updated\"%phone)\n",
    "    else:\n",
    "        print(\"%s does not exit\"%name)\n",
    "update(\"name2\")\n",
    "print(contacts)\n",
    "                 \n"
   ]
  },
  {
   "cell_type": "code",
   "execution_count": 51,
   "metadata": {},
   "outputs": [
    {
     "name": "stdout",
     "output_type": "stream",
     "text": [
      "name not exists in given list nmae2\n"
     ]
    },
    {
     "data": {
      "text/plain": [
       "{'name2': 8984748864, 'name3': 858675885}"
      ]
     },
     "execution_count": 51,
     "metadata": {},
     "output_type": "execute_result"
    }
   ],
   "source": [
    "def delete(name):\n",
    "    if name in contacts:\n",
    "        contacts.pop(name)\n",
    "        print(\"deleted sucessfully %s\"%name)\n",
    "    else:\n",
    "        print(\"name not exists in given list %s\"%name)\n",
    "delete(\"nmae2\")\n",
    "contacts"
   ]
  },
  {
   "cell_type": "code",
   "execution_count": 48,
   "metadata": {},
   "outputs": [
    {
     "ename": "TypeError",
     "evalue": "popitem() takes no arguments (1 given)",
     "output_type": "error",
     "traceback": [
      "\u001b[1;31m---------------------------------------------------------------------------\u001b[0m",
      "\u001b[1;31mTypeError\u001b[0m                                 Traceback (most recent call last)",
      "\u001b[1;32m<ipython-input-48-f741d43486a1>\u001b[0m in \u001b[0;36m<module>\u001b[1;34m\u001b[0m\n\u001b[0;32m      1\u001b[0m \u001b[0md\u001b[0m\u001b[1;33m=\u001b[0m\u001b[1;33m{\u001b[0m\u001b[1;34m\"one\"\u001b[0m\u001b[1;33m:\u001b[0m\u001b[1;36m1\u001b[0m\u001b[1;33m,\u001b[0m\u001b[1;34m\"two\"\u001b[0m\u001b[1;33m:\u001b[0m\u001b[1;36m2\u001b[0m\u001b[1;33m,\u001b[0m\u001b[1;34m\"three\"\u001b[0m\u001b[1;33m:\u001b[0m\u001b[1;36m3\u001b[0m\u001b[1;33m}\u001b[0m\u001b[1;33m\u001b[0m\u001b[1;33m\u001b[0m\u001b[0m\n\u001b[1;32m----> 2\u001b[1;33m \u001b[0md\u001b[0m\u001b[1;33m.\u001b[0m\u001b[0mpopitem\u001b[0m\u001b[1;33m(\u001b[0m\u001b[1;34m\"two\"\u001b[0m\u001b[1;33m)\u001b[0m\u001b[1;33m\u001b[0m\u001b[1;33m\u001b[0m\u001b[0m\n\u001b[0m",
      "\u001b[1;31mTypeError\u001b[0m: popitem() takes no arguments (1 given)"
     ]
    }
   ],
   "source": [
    "d={\"one\":1,\"two\":2,\"three\":3}\n",
    "d.popitem(\"two\")\n"
   ]
  },
  {
   "cell_type": "code",
   "execution_count": 60,
   "metadata": {},
   "outputs": [
    {
     "name": "stdout",
     "output_type": "stream",
     "text": [
      "nmae4 : 4567889878\n",
      "dict_items([('nmae4', '4567889878')])\n"
     ]
    }
   ],
   "source": [
    "def listofcontacts():\n",
    "   for h in contacts.items():\n",
    "    \n",
    "    print(h[0],\":\",h[1])   \n",
    "listofcontacts()\n",
    "print(contacts.items())"
   ]
  },
  {
   "cell_type": "code",
   "execution_count": 66,
   "metadata": {},
   "outputs": [
    {
     "data": {
      "text/plain": [
       "dict_items([('avinash', '8756654320'), ('raviiiii', '89065432034')])"
      ]
     },
     "execution_count": 66,
     "metadata": {},
     "output_type": "execute_result"
    }
   ],
   "source": [
    "contacts.items()\n"
   ]
  },
  {
   "cell_type": "markdown",
   "metadata": {},
   "source": [
    "# Packages and Modules\n",
    "- **Packages** ->collection of modules(python file  .py)\n",
    "- **Module**-->A single python file contains fumctions\n",
    "- Package -> Subpackage -> Modules  -> Functions"
   ]
  },
  {
   "cell_type": "code",
   "execution_count": 68,
   "metadata": {},
   "outputs": [
    {
     "data": {
      "text/plain": [
       "['__doc__',\n",
       " '__loader__',\n",
       " '__name__',\n",
       " '__package__',\n",
       " '__spec__',\n",
       " 'acos',\n",
       " 'acosh',\n",
       " 'asin',\n",
       " 'asinh',\n",
       " 'atan',\n",
       " 'atan2',\n",
       " 'atanh',\n",
       " 'ceil',\n",
       " 'copysign',\n",
       " 'cos',\n",
       " 'cosh',\n",
       " 'degrees',\n",
       " 'e',\n",
       " 'erf',\n",
       " 'erfc',\n",
       " 'exp',\n",
       " 'expm1',\n",
       " 'fabs',\n",
       " 'factorial',\n",
       " 'floor',\n",
       " 'fmod',\n",
       " 'frexp',\n",
       " 'fsum',\n",
       " 'gamma',\n",
       " 'gcd',\n",
       " 'hypot',\n",
       " 'inf',\n",
       " 'isclose',\n",
       " 'isfinite',\n",
       " 'isinf',\n",
       " 'isnan',\n",
       " 'ldexp',\n",
       " 'lgamma',\n",
       " 'log',\n",
       " 'log10',\n",
       " 'log1p',\n",
       " 'log2',\n",
       " 'modf',\n",
       " 'nan',\n",
       " 'pi',\n",
       " 'pow',\n",
       " 'radians',\n",
       " 'remainder',\n",
       " 'sin',\n",
       " 'sinh',\n",
       " 'sqrt',\n",
       " 'tan',\n",
       " 'tanh',\n",
       " 'tau',\n",
       " 'trunc']"
      ]
     },
     "execution_count": 68,
     "metadata": {},
     "output_type": "execute_result"
    }
   ],
   "source": [
    "import math\n",
    "math.floor(123.456)\n",
    "dir(math)"
   ]
  },
  {
   "cell_type": "code",
   "execution_count": 69,
   "metadata": {},
   "outputs": [
    {
     "data": {
      "text/plain": [
       "345"
      ]
     },
     "execution_count": 69,
     "metadata": {},
     "output_type": "execute_result"
    }
   ],
   "source": [
    "from math import floor as f\n",
    "f(345.9090)\n"
   ]
  },
  {
   "cell_type": "code",
   "execution_count": 75,
   "metadata": {},
   "outputs": [
    {
     "name": "stdout",
     "output_type": "stream",
     "text": [
      "1052 813 1435 608 1155 97 1345 263 142 699 456 1313 128 1067 712 945 5 1261 319 134 "
     ]
    }
   ],
   "source": [
    "import random\n",
    "def generateRandomNumbers(n,lb,ub):\n",
    "    for i in range(0,n):\n",
    "        print(random.randint(lb,ub),end=\" \")\n",
    "\n",
    "generateRandomNumbers(20,0,1500)        \n"
   ]
  },
  {
   "cell_type": "code",
   "execution_count": null,
   "metadata": {},
   "outputs": [],
   "source": []
  },
  {
   "cell_type": "code",
   "execution_count": null,
   "metadata": {},
   "outputs": [],
   "source": [
    "from Packages import numerical\n",
    "numerical.isprime(10000)"
   ]
  },
  {
   "cell_type": "code",
   "execution_count": null,
   "metadata": {},
   "outputs": [],
   "source": [
    "from Packages import numerical\n",
    "numerical.isprime(10000)"
   ]
  },
  {
   "cell_type": "code",
   "execution_count": 2,
   "metadata": {},
   "outputs": [
    {
     "data": {
      "text/plain": [
       "True"
      ]
     },
     "execution_count": 2,
     "metadata": {},
     "output_type": "execute_result"
    }
   ],
   "source": [
    "from Packages import numerical\n",
    "numerical.isprime(101)"
   ]
  },
  {
   "cell_type": "code",
   "execution_count": null,
   "metadata": {},
   "outputs": [],
   "source": []
  }
 ],
 "metadata": {
  "kernelspec": {
   "display_name": "Python 3",
   "language": "python",
   "name": "python3"
  },
  "language_info": {
   "codemirror_mode": {
    "name": "ipython",
    "version": 3
   },
   "file_extension": ".py",
   "mimetype": "text/x-python",
   "name": "python",
   "nbconvert_exporter": "python",
   "pygments_lexer": "ipython3",
   "version": "3.7.3"
  }
 },
 "nbformat": 4,
 "nbformat_minor": 2
}
