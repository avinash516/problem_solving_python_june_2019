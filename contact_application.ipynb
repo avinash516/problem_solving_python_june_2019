{
 "cells": [
  {
   "cell_type": "code",
   "execution_count": 1,
   "metadata": {},
   "outputs": [
    {
     "name": "stdout",
     "output_type": "stream",
     "text": [
      "2\n",
      "avinash\n",
      "99899788778\n",
      "avi@gmail.com\n",
      "hari\n",
      "758758858\n",
      "hari@gmail.com\n"
     ]
    },
    {
     "data": {
      "text/plain": [
       "'data added sucessfully'"
      ]
     },
     "execution_count": 1,
     "metadata": {},
     "output_type": "execute_result"
    }
   ],
   "source": [
    "contact={}\n",
    "def addcontactsfile():\n",
    "    n=int(input())\n",
    "    for record in range(n):\n",
    "        name = input()\n",
    "        mobile=input()\n",
    "        email=input()\n",
    "        contact[name]=[mobile,email]\n",
    "    with open(\"contact.txt\",'w') as data:\n",
    "        for user in contact.items():\n",
    "            data.write(user[0]+\",\"+user[1][0]+\",\"+user[1][1]+\"\\n\")\n",
    "    return \"data added sucessfully\"\n",
    "addcontactsfile()"
   ]
  },
  {
   "cell_type": "code",
   "execution_count": 4,
   "metadata": {},
   "outputs": [
    {
     "name": "stdout",
     "output_type": "stream",
     "text": [
      "contact.txt\n",
      "enter username:hari\n",
      "67889898989\n",
      "hjhsjhxksjk\n"
     ]
    }
   ],
   "source": [
    "#modify contacts\n",
    "def modifycontacts(filename):\n",
    "    update_data={}\n",
    "    name=input(\"enter username:\")\n",
    "    with open(filename,'r') as f:\n",
    "        for line in f:\n",
    "            line=line.strip().split(',')\n",
    "            if name in line:\n",
    "                mobile=input()\n",
    "                email=input()\n",
    "                line[1]=mobile\n",
    "                line[2]=email\n",
    "                update_data[line[0]]=[line[1],line[2]]\n",
    "            else:\n",
    "                #print(line)\n",
    "                update_data[line[0]]=[line[1],line[2]]\n",
    "                continue\n",
    "    with open(filename,'w') as info:\n",
    "        for user in update_data.items():\n",
    "            info.write(user[0]+','+user[1][0]+','+user[1][1]+'\\n')\n",
    "\n",
    "\n",
    "            \n",
    "            \n",
    "            \n",
    "            \n",
    "filename=input()\n",
    "modifycontacts(filename)       "
   ]
  },
  {
   "cell_type": "code",
   "execution_count": null,
   "metadata": {},
   "outputs": [],
   "source": []
  }
 ],
 "metadata": {
  "kernelspec": {
   "display_name": "Python 3",
   "language": "python",
   "name": "python3"
  },
  "language_info": {
   "codemirror_mode": {
    "name": "ipython",
    "version": 3
   },
   "file_extension": ".py",
   "mimetype": "text/x-python",
   "name": "python",
   "nbconvert_exporter": "python",
   "pygments_lexer": "ipython3",
   "version": "3.7.3"
  }
 },
 "nbformat": 4,
 "nbformat_minor": 2
}
