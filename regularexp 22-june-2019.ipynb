{
 "cells": [
  {
   "cell_type": "code",
   "execution_count": 1,
   "metadata": {},
   "outputs": [
    {
     "name": "stdout",
     "output_type": "stream",
     "text": [
      "9988776655\n",
      "True\n",
      "gayathrivv410@gmail.com\n"
     ]
    },
    {
     "data": {
      "text/plain": [
       "True"
      ]
     },
     "execution_count": 1,
     "metadata": {},
     "output_type": "execute_result"
    }
   ],
   "source": [
    "import re\n",
    "def phonenumbervalidator(n):\n",
    "    p=\"^[6-9][0-9]{9}$|^[+][9][1][6-9][0-9]{9}$|^[0][6-9][0-9]{9}$\"\n",
    "    if re.match(p,n):\n",
    "        print(True)\n",
    "    else:\n",
    "        print(False)\n",
    "n=input()\n",
    "phonenumbervalidator(n)\n",
    "\n",
    "def Emailvalidator(m):\n",
    "    email=\"^[A-Za-z0-9][a-z0-9A-Z_.]{4,13}[@][a-z0-9]{2,6}[.][a-z]{3,5}$\"\n",
    "    if re.match(email,m):\n",
    "        return(True)\n",
    "    return False\n",
    "m=input()\n",
    "Emailvalidator(m)"
   ]
  },
  {
   "cell_type": "code",
   "execution_count": 22,
   "metadata": {},
   "outputs": [
    {
     "name": "stdout",
     "output_type": "stream",
     "text": [
      "sucessfully added\n",
      "sucessfully added\n"
     ]
    }
   ],
   "source": [
    "contacts={\"name1\":[96750750797,\"avinash@gmail.com\"],\"name2\":[96750750797,\"avinash516@gmail.com\"]}\n",
    "\n",
    "def addcontact(name,ph,email):\n",
    "    if name in contacts:\n",
    "        print(name,\"already exists\")\n",
    "        return\n",
    "    else:\n",
    "        if not Emailvalidator(email):\n",
    "            print(\"email is not valid\")\n",
    "            return\n",
    "        New_Contact=[]\n",
    "        New_Contact.extend([ph,email])\n",
    "        #New_Contact.append(email)\n",
    "        contacts[name]=New_Contact\n",
    "\n",
    "        print(\"sucessfully added\")\n",
    "    return\n",
    "addcontact(\"name4\",8748685758,\"chowdary@gmail.com\")\n",
    "addcontact(\"name5\",9966557866,\"jpgedstgf@gmail.com\")"
   ]
  },
  {
   "cell_type": "code",
   "execution_count": 9,
   "metadata": {},
   "outputs": [
    {
     "name": "stdout",
     "output_type": "stream",
     "text": [
      "name4 9966557666 kumarchowdary@gmail.com\n"
     ]
    }
   ],
   "source": [
    "def searchcontacts(name):\n",
    "    if name in contacts:\n",
    "        print(name,contacts[name][0],contacts[name][1])\n",
    "    else:\n",
    "        print(\"does not exists\")\n",
    "    return\n",
    "searchcontacts(\"name4\")"
   ]
  },
  {
   "cell_type": "code",
   "execution_count": 16,
   "metadata": {},
   "outputs": [
    {
     "name": "stdout",
     "output_type": "stream",
     "text": [
      "name1 96750750797 avinash@gmail.com\n",
      "name2 96750750797 avinash516@gmail.com\n",
      "name3 87486857578 kumarichowdary@gmail.com\n",
      "name4 9966557666 kumariiiii@gmail.com\n"
     ]
    }
   ],
   "source": [
    "def listcontacts():\n",
    "    for i in contacts:\n",
    "        print(i,contacts[i][0],contacts[i][1])\n",
    "    return\n",
    "listcontacts()"
   ]
  },
  {
   "cell_type": "code",
   "execution_count": 17,
   "metadata": {},
   "outputs": [
    {
     "name": "stdout",
     "output_type": "stream",
     "text": [
      "name4 67858976857 avikjshddfjs2@gmail.com\n"
     ]
    }
   ],
   "source": [
    "def modifycontacts(name,ph,email):\n",
    "    if name in contacts:\n",
    "        contacts[name][0]=ph\n",
    "        contacts[name][1]=email\n",
    "        print(name,contacts[name][0],contacts[name][1],modi)\n",
    "    else:\n",
    "        print(\"contacts not exit\")\n",
    "    return\n",
    "modifycontacts(\"name4\",67858976857,\"avikjshddfjs2@gmail.com\")\n",
    "        \n",
    "        "
   ]
  },
  {
   "cell_type": "code",
   "execution_count": 18,
   "metadata": {},
   "outputs": [
    {
     "data": {
      "text/plain": [
       "{'name1': [96750750797, 'avinash@gmail.com'],\n",
       " 'name2': [96750750797, 'avinash516@gmail.com'],\n",
       " 'name3': [87486857578, 'kumarichowdary@gmail.com'],\n",
       " 'name4': [67858976857, 'avikjshddfjs2@gmail.com']}"
      ]
     },
     "execution_count": 18,
     "metadata": {},
     "output_type": "execute_result"
    }
   ],
   "source": [
    "contacts"
   ]
  },
  {
   "cell_type": "code",
   "execution_count": 20,
   "metadata": {},
   "outputs": [
    {
     "name": "stdout",
     "output_type": "stream",
     "text": [
      "deleted sucessfully\n"
     ]
    }
   ],
   "source": [
    "def removecontact(name):\n",
    "    if name in contacts:\n",
    "        contacts.pop(name)\n",
    "        print(\"deleted sucessfully\")\n",
    "    else:\n",
    "        print(\"name not in contacts\")\n",
    "    return\n",
    "removecontact(\"name4\")\n",
    "        \n",
    "    "
   ]
  },
  {
   "cell_type": "code",
   "execution_count": 23,
   "metadata": {},
   "outputs": [
    {
     "data": {
      "text/plain": [
       "{'name1': [96750750797, 'avinash@gmail.com'],\n",
       " 'name2': [96750750797, 'avinash516@gmail.com'],\n",
       " 'name4': [8748685758, 'chowdary@gmail.com'],\n",
       " 'name5': [9966557866, 'jpgedstgf@gmail.com']}"
      ]
     },
     "execution_count": 23,
     "metadata": {},
     "output_type": "execute_result"
    }
   ],
   "source": [
    "contacts"
   ]
  },
  {
   "cell_type": "markdown",
   "metadata": {},
   "source": [
    "# Contact Application in files"
   ]
  },
  {
   "cell_type": "code",
   "execution_count": null,
   "metadata": {},
   "outputs": [],
   "source": []
  },
  {
   "cell_type": "code",
   "execution_count": null,
   "metadata": {},
   "outputs": [],
   "source": []
  },
  {
   "cell_type": "code",
   "execution_count": null,
   "metadata": {},
   "outputs": [],
   "source": [
    "contact={}\n",
    "def addcontactsfile():\n",
    "    n=int(input())\n",
    "    for record in range(n):\n",
    "        name = input()\n",
    "        mobile=input()\n",
    "        email=input()\n",
    "        contact[name]=[mobile,email]\n",
    "    with open(\"contact.txt\",'w') as data:\n",
    "        for user in contact.items():\n",
    "            data.write(user[0]+\",\"+user[1][0]+\",\"+user[1][1]+\"\\n\")\n",
    "    return \"data added sucessfully\"\n",
    "addcontactsfile()"
   ]
  },
  {
   "cell_type": "code",
   "execution_count": 29,
   "metadata": {},
   "outputs": [
    {
     "ename": "NameError",
     "evalue": "name 'addcontactsfile' is not defined",
     "output_type": "error",
     "traceback": [
      "\u001b[1;31m---------------------------------------------------------------------------\u001b[0m",
      "\u001b[1;31mNameError\u001b[0m                                 Traceback (most recent call last)",
      "\u001b[1;32m<ipython-input-29-b189beeb3f0d>\u001b[0m in \u001b[0;36m<module>\u001b[1;34m\u001b[0m\n\u001b[1;32m----> 1\u001b[1;33m \u001b[0maddcontactsfile\u001b[0m\u001b[1;33m(\u001b[0m\u001b[1;33m)\u001b[0m\u001b[1;33m\u001b[0m\u001b[1;33m\u001b[0m\u001b[0m\n\u001b[0m",
      "\u001b[1;31mNameError\u001b[0m: name 'addcontactsfile' is not defined"
     ]
    }
   ],
   "source": [
    "addcontactsfile()"
   ]
  },
  {
   "cell_type": "code",
   "execution_count": null,
   "metadata": {},
   "outputs": [],
   "source": [
    "#modify contacts\n",
    "def modifycontacts(filename):\n",
    "    update_data={}\n",
    "    name=input(\"enter username:\")\n",
    "    with open(filename,'r') as f:\n",
    "        for line in f:\n",
    "            line=line.strip().split()\n",
    "            if name in line:\n",
    "                mobile=input()\n",
    "                email=input()\n",
    "                line[1]=mobile\n",
    "                line[2]=email\n",
    "                update_data[line[0]]=[line[1],line[2]]\n",
    "            else:\n",
    "                update_data[line[0]]=[line[1],line[2]]\n",
    "                continue\n",
    "    with open(filename,'w') as info:\n",
    "        for user in update_data.items():\n",
    "            info.write(user[0]+','+user[1][0]+','+user[1][1]+'\\n')\n",
    "\n",
    "\n",
    "            \n",
    "            \n",
    "            \n",
    "            \n",
    "filename=input()\n",
    "modifycontacts(filename)       "
   ]
  },
  {
   "cell_type": "code",
   "execution_count": null,
   "metadata": {},
   "outputs": [],
   "source": []
  },
  {
   "cell_type": "code",
   "execution_count": null,
   "metadata": {},
   "outputs": [],
   "source": []
  },
  {
   "cell_type": "code",
   "execution_count": null,
   "metadata": {},
   "outputs": [],
   "source": []
  }
 ],
 "metadata": {
  "kernelspec": {
   "display_name": "Python 3",
   "language": "python",
   "name": "python3"
  },
  "language_info": {
   "codemirror_mode": {
    "name": "ipython",
    "version": 3
   },
   "file_extension": ".py",
   "mimetype": "text/x-python",
   "name": "python",
   "nbconvert_exporter": "python",
   "pygments_lexer": "ipython3",
   "version": "3.7.3"
  }
 },
 "nbformat": 4,
 "nbformat_minor": 2
}
