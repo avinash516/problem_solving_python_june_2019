{
 "cells": [
  {
   "cell_type": "code",
   "execution_count": null,
   "metadata": {},
   "outputs": [],
   "source": [
    "#function to add contacts\n",
    "from Packages import validators\n",
    "def addcontact(name,phone,email):\n",
    "    #store the data as name,phone,email in the contacts file\n",
    "    filename=\"datafiles/contacts.txt\"\n",
    "    if not checkContactExists(name):\n",
    "        \n",
    "        with open(filename,\"a\" ) as f:\n",
    "            line=name+ ','+str(phone)+\" ,\" +email+\"v\"\n",
    "            f.write(line)\n",
    "        print(name,\"added to contacts\")\n",
    "    return\n",
    "\n",
    "\n",
    "import re\n",
    "def checkContactExist():\n",
    "    filename=filename=\"datafiles/contacts.txt\"\n",
    "    with open(filename,\"r\") as f:\n",
    "        filedata=f.read()\n",
    "        patterns=name+\", \"\n",
    "    re.search(name,filedata)\n",
    "    \n",
    "if checkContactExists(\"name1\"):\n",
    "    print(True)\n",
    "else:\n",
    "    print(False)\n",
    "    \n",
    "        \n",
    "addcontacts()\n",
    "\n",
    "    \n",
    "    "
   ]
  }
 ],
 "metadata": {
  "kernelspec": {
   "display_name": "Python 3",
   "language": "python",
   "name": "python3"
  },
  "language_info": {
   "codemirror_mode": {
    "name": "ipython",
    "version": 3
   },
   "file_extension": ".py",
   "mimetype": "text/x-python",
   "name": "python",
   "nbconvert_exporter": "python",
   "pygments_lexer": "ipython3",
   "version": "3.7.3"
  }
 },
 "nbformat": 4,
 "nbformat_minor": 2
}
