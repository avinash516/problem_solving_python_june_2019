{
 "cells": [
  {
   "cell_type": "markdown",
   "metadata": {},
   "source": [
    "### Problem Solving  and Programming in PythonData Structures\n",
    "\n",
    "### Date - 14 june 2019\n",
    "\n",
    "### Day Objectives:\n",
    "- Python Data Structures\n",
    "    - Lists\n",
    "    - Tuples\n",
    "    - Dictionaries\n",
    "- Basic Problems on Ds\n",
    "- Advanced Problems Set\n",
    "- Packages and Modules in Python\n"
   ]
  },
  {
   "cell_type": "code",
   "execution_count": null,
   "metadata": {},
   "outputs": [],
   "source": []
  },
  {
   "cell_type": "markdown",
   "metadata": {},
   "source": [
    "## Python Data Structures\n",
    "\n",
    "### List"
   ]
  },
  {
   "cell_type": "code",
   "execution_count": 68,
   "metadata": {},
   "outputs": [
    {
     "name": "stdout",
     "output_type": "stream",
     "text": [
      "-1\n"
     ]
    }
   ],
   "source": [
    "li = [123,978,654]\n",
    "li #access the entire list\n",
    "li[1] #access an element with index in a list\n",
    "li[1:]# Access all element to last element\n",
    "\n",
    "li = li[::-1]\n",
    "li =li[::-1]#reversing the list element and reassining\n",
    "li[::2]#accessing even index elements\n",
    "li[1::2]#accessing odd numbers of a given list\n",
    "\n",
    "#Lists can be accesed  manipulated in \n",
    "        #Direct referencing--idex\n",
    "        #Indeirect Referencing--through functions\n",
    "li.append(345)\n",
    "li\n",
    "\n",
    "li.insert(1,234)\n",
    "li.sort()#sort elements in \n",
    "li\n",
    "#remove the last element\n",
    "li.pop()\n",
    "#remove an element at a particular index\n",
    "li.pop(1)\n",
    "li2=[234,456,789]\n",
    "#Merge list2 into list1\n",
    "li.extend(li2)\n",
    "sum(li)#sum od all elements in a list\n",
    "max(li)#maximum elelnemt in list\n",
    "len(li)#no of elements in a list\n",
    "\n",
    "# Average of list elementd\n",
    "sum(li)/len(li)\n",
    "# Average of all alternate elements\n",
    "sum(li[1::2])/len(li[1::2])\n",
    "max(li)-1\n",
    "try:\n",
    "    li.index(1000)\n",
    "except:\n",
    "    print(-1)"
   ]
  },
  {
   "cell_type": "code",
   "execution_count": 35,
   "metadata": {},
   "outputs": [
    {
     "data": {
      "text/plain": [
       "654"
      ]
     },
     "execution_count": 35,
     "metadata": {},
     "output_type": "execute_result"
    }
   ],
   "source": [
    "#Function to identify the second largest element in the list\n",
    "    #sort the data and select the second last element\n",
    "    #remove the max element and then get the max\n",
    "def secondLargest(li):\n",
    "    #return li.sort()[-2]\n",
    "    li.sort()\n",
    "    return li[-2]\n",
    "secondLargest(li)\n",
    "    \n"
   ]
  },
  {
   "cell_type": "code",
   "execution_count": 47,
   "metadata": {},
   "outputs": [
    {
     "name": "stdout",
     "output_type": "stream",
     "text": [
      "[123, 234, 345, 456, 654, 789]\n"
     ]
    },
    {
     "data": {
      "text/plain": [
       "345"
      ]
     },
     "execution_count": 47,
     "metadata": {},
     "output_type": "execute_result"
    }
   ],
   "source": [
    "#function that return the nth largest unique list\n",
    "def genericLargest(li,n):\n",
    "    #return li.sort()[-n]\n",
    "    li.sort()\n",
    "    print(li)\n",
    "    return li[-n]\n",
    "genericLargest(li,4)"
   ]
  },
  {
   "cell_type": "code",
   "execution_count": 81,
   "metadata": {},
   "outputs": [
    {
     "name": "stdout",
     "output_type": "stream",
     "text": [
      "[123, 345, 654, 234, 456, 789]\n"
     ]
    },
    {
     "data": {
      "text/plain": [
       "3"
      ]
     },
     "execution_count": 81,
     "metadata": {},
     "output_type": "execute_result"
    }
   ],
   "source": [
    "#Function to search for data in a list search for the key in the list and return \n",
    "def linearSearch(li,key):\n",
    "    for index in range(0,len(li)):\n",
    "        if li[index]==key:\n",
    "            return index\n",
    "    return -1\n",
    "linearSearch(li,345)\n",
    "\n",
    "#second way of finding \n",
    "def lins2(li,key):\n",
    "    for element in li:\n",
    "        if element == key:\n",
    "            return li.index(element)\n",
    "    return -1\n",
    "lins2(li,234)\n",
    "\n",
    "#single line solution\n",
    "def lns3(li,key):\n",
    "    #return [li.index(key) if key in li] sysntax error\n",
    "    if key in li:\n",
    "        print(li)\n",
    "        return li.index(key)\n",
    "    return -1\n",
    "\n",
    "lns3(li,234)\n",
    "    "
   ]
  },
  {
   "cell_type": "code",
   "execution_count": 114,
   "metadata": {},
   "outputs": [
    {
     "data": {
      "text/plain": [
       "3"
      ]
     },
     "execution_count": 114,
     "metadata": {},
     "output_type": "execute_result"
    }
   ],
   "source": [
    "#function to count the occurances of a character \n",
    "#\"python programming\",m-->2\n",
    "def countofchar(n,x):\n",
    "    return n.count(x)\n",
    "countofchar(\"python programming\",'py')\n",
    "\n",
    "def count1(s,s1):\n",
    "    c=0\n",
    "    for n in s:\n",
    "        if n == s1:\n",
    "            c+=1\n",
    "    return c\n",
    "count1(\"Python programming\",'Py')\n",
    "        \n",
    "        \n",
    "#function to find the no of occurances of given sub string\n",
    "#\"abcabcddba\"--->\"ab\"---2\n",
    "#\"abcabcddbaaaa\"----->\"aa\"---3\n",
    "def substring(n,x):\n",
    "    c = 0\n",
    "    len1 = len(x)\n",
    "    for i in range(len(n)):\n",
    "        if n[i:i+len1] == x:\n",
    "            c+= 1\n",
    "    return c\n",
    "substring(\"abcabcddbabbbb\",\"bb\")\n",
    "            \n",
    "    \n"
   ]
  },
  {
   "cell_type": "code",
   "execution_count": 116,
   "metadata": {},
   "outputs": [
    {
     "data": {
      "text/plain": [
       "[1, 2, 3, 4, 5, 6]"
      ]
     },
     "execution_count": 116,
     "metadata": {},
     "output_type": "execute_result"
    }
   ],
   "source": [
    "s=\"1 2 3 4 5 6\"\n",
    "li=s.split()\n",
    "nli=[]\n",
    "for i in li:\n",
    "    nli.append(int(i))\n",
    "nli"
   ]
  },
  {
   "cell_type": "code",
   "execution_count": null,
   "metadata": {},
   "outputs": [],
   "source": []
  }
 ],
 "metadata": {
  "kernelspec": {
   "display_name": "Python 3",
   "language": "python",
   "name": "python3"
  },
  "language_info": {
   "codemirror_mode": {
    "name": "ipython",
    "version": 3
   },
   "file_extension": ".py",
   "mimetype": "text/x-python",
   "name": "python",
   "nbconvert_exporter": "python",
   "pygments_lexer": "ipython3",
   "version": "3.7.3"
  }
 },
 "nbformat": 4,
 "nbformat_minor": 2
}
