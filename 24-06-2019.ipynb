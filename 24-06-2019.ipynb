{
 "cells": [
  {
   "cell_type": "code",
   "execution_count": 1,
   "metadata": {},
   "outputs": [
    {
     "name": "stdout",
     "output_type": "stream",
     "text": [
      "hello r u welcome hiiii how hjhhj "
     ]
    }
   ],
   "source": [
    "#finding unique word count\n",
    "def uniquewordcount(file):\n",
    "    un=[]\n",
    "    with open(file) as d:\n",
    "        for i in d:\n",
    "            i=i.strip().split()\n",
    "            for uwords in i:\n",
    "                if (i.count(uwords)==1)and (uwords not in un):\n",
    "                    un.append(uwords)\n",
    "                else:\n",
    "                    continue\n",
    "        for k in un:\n",
    "            print(k,end=\" \")\n",
    "file='files/data.txt'\n",
    "uniquewordcount(file)"
   ]
  },
  {
   "cell_type": "code",
   "execution_count": null,
   "metadata": {},
   "outputs": [],
   "source": [
    "def Frqdistributionofwords(filepath):\n",
    "    #dictionary to be used\n",
    "    #keys -> unique words\n",
    "    #values->count of unique words\n",
    "    #two lists:\n",
    "       #allwords  list\n",
    "        #unique words list\n",
    "    #sets\n",
    "    allwords=wordsFromFile(filepath)\n",
    "    uniquewords=uniqueData(filepath)\n",
    "    \n",
    "    "
   ]
  },
  {
   "cell_type": "code",
   "execution_count": null,
   "metadata": {},
   "outputs": [],
   "source": [
    "# Read a file -- file should be exist\n",
    "# Write afile -- Existing(append mode) or New file(write mode)\n",
    "\n",
    "#def readFile(filePath):\n",
    "   #with open(filePath,'r') as f:\n",
    "       #print(type(f))\n",
    "   #return\n",
    "\n",
    "#filePath = 'Data files/data.txt'\n",
    "#readFile(filePath)\n",
    "def readFile(filePath):\n",
    "   with open(filePath,'r') as f:\n",
    "       filedata = f.read() #Reads the entire file data into a string\n",
    "   return filedata\n",
    "\n",
    "filePath = 'files/data.txt'\n",
    "print(readFile(filePath))\n",
    "\n",
    "\n",
    "\n",
    "# Function to count the number of words in a file\n",
    "import re\n",
    "\n",
    "def wordCountFile(filepath):\n",
    "   pattern = '[ \\n]'\n",
    "   filedata = readFile(filepath)\n",
    "   count = len(re.split(pattern, filedata))\n",
    "   return count\n",
    "\n",
    "wordCountFile(filepath)\n",
    "\n",
    "\n",
    "\n",
    "# Function to read a file into a list of lines\n",
    "# Each element in the list is one line in the file - Line Processing\n",
    "def readFileIntoList(filepath):\n",
    "   with open(filePath, 'r') as f:\n",
    "       filedata = f.read()\n",
    "       lines = filedata.split('\\n')\n",
    "       #lines = []\n",
    "       #for line in f: \n",
    "           #lines.append(line)\n",
    "   return lines\n",
    "\n",
    "filepath = 'Data files/data.txt'\n",
    "readFileIntoList(filepath)\n",
    "reding a filee\n",
    "# Function to count number of lines in a file\n",
    "\n",
    "def countLinesFile(filepath):\n",
    "   count = len(readFileIntoList(filepath))\n",
    "   return count\n",
    "\n",
    "countLinesFile(filepath)\n",
    "#Function to count the number of characters in a file\n",
    "\n",
    "def charCountFile(filepath):\n",
    "   count = len(readFile(filepath))\n",
    "   return count\n",
    "charCountFile(filepath)\n",
    "\n"
   ]
  },
  {
   "cell_type": "code",
   "execution_count": 4,
   "metadata": {},
   "outputs": [
    {
     "name": "stdout",
     "output_type": "stream",
     "text": [
      "180\n",
      "3\n",
      "640 480\n",
      "CROP IT\n",
      "120 300\n",
      "UPLOAD ANOTHER\n",
      "180 180\n",
      "ACCEPTED\n"
     ]
    }
   ],
   "source": [
    "def profilesetting(n):\n",
    "    k=int(input())\n",
    "    for i in range(k):\n",
    "        l=input().split()\n",
    "        w,h = int(l[0]),int(l[1])\n",
    "        if w<n or h<n:\n",
    "            print(\"UPLOAD ANOTHER\")\n",
    "        elif w == n or h==n:\n",
    "            print(\"ACCEPTED\")\n",
    "        elif w>n or w>n:\n",
    "            print(\"CROP IT\")\n",
    "    return\n",
    "n=int(input())\n",
    "profilesetting(n)"
   ]
  },
  {
   "cell_type": "markdown",
   "metadata": {},
   "source": [
    "### Contacts Applications\n",
    "    - Add,Search,List,modify,Delete \n",
    "### Find and Replace Application\n",
    "   - count the total number of occurances of \n",
    "   - if word is existing\n",
    "  - Replace all occurances of a word with \n",
    "  - marks Ananlusis info\n",
    "  \n",
    "     - generate a report with the following"
   ]
  },
  {
   "cell_type": "code",
   "execution_count": 1,
   "metadata": {},
   "outputs": [],
   "source": [
    "#Function to generate the marks file for n students\n",
    "\n",
    "\"\"\"from random import randint\n",
    "\n",
    "def generateMarks(n,lb,ub):\n",
    "    with open('files/marks.txt','w') as f:\n",
    "        for i in range(0,n):\n",
    "            r = randint(lb,ub)\n",
    "            f.write(str(r)+'\\n')\n",
    "    return\n",
    "#generateMarks(10000,0,100)\"\"\"\n"
   ]
  },
  {
   "cell_type": "code",
   "execution_count": 6,
   "metadata": {},
   "outputs": [
    {
     "name": "stdout",
     "output_type": "stream",
     "text": [
      "0 2 1 0 1 1 1 1 0 0 "
     ]
    }
   ],
   "source": [
    "n='a11472o5t6'\n",
    "for i in range(0,10):\n",
    "    print(n.count(str(i)),end=\" \")"
   ]
  },
  {
   "cell_type": "code",
   "execution_count": 9,
   "metadata": {},
   "outputs": [
    {
     "name": "stdout",
     "output_type": "stream",
     "text": [
      "123456\n",
      "21\n"
     ]
    }
   ],
   "source": [
    "s=input()\n",
    "sum = 0\n",
    "for i, element in enumerate(s):\n",
    "    sum = sum + int(element)\n",
    "print(sum)"
   ]
  },
  {
   "cell_type": "code",
   "execution_count": null,
   "metadata": {},
   "outputs": [],
   "source": []
  }
 ],
 "metadata": {
  "kernelspec": {
   "display_name": "Python 3",
   "language": "python",
   "name": "python3"
  },
  "language_info": {
   "codemirror_mode": {
    "name": "ipython",
    "version": 3
   },
   "file_extension": ".py",
   "mimetype": "text/x-python",
   "name": "python",
   "nbconvert_exporter": "python",
   "pygments_lexer": "ipython3",
   "version": "3.7.3"
  }
 },
 "nbformat": 4,
 "nbformat_minor": 2
}
