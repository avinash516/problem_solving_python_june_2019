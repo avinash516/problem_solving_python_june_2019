{
 "cells": [
  {
   "cell_type": "markdown",
   "metadata": {},
   "source": [
    "### class average\n",
    "### % of students passed\n",
    "### % of students failed\n",
    "### % of stusents with distinction\n",
    "### Highest Mark frequency\n",
    "### lowest mark frequency"
   ]
  },
  {
   "cell_type": "code",
   "execution_count": 7,
   "metadata": {},
   "outputs": [],
   "source": [
    "from random import randint\n",
    "\n",
    "def generateMarks(n,lb,ub):\n",
    "    with open('files/marks.txt','w') as f:\n",
    "        for i in range(0,n):\n",
    "            r = randint(lb,ub)\n",
    "            f.write(str(r)+'\\n')\n",
    "    return\n",
    "generateMarks(10,0,100)"
   ]
  },
  {
   "cell_type": "code",
   "execution_count": 8,
   "metadata": {},
   "outputs": [
    {
     "name": "stdout",
     "output_type": "stream",
     "text": [
      "['85', '75', '43', '100', '21', '54', '89', '75', '28', '22']\n",
      "total =  10 sum = 592\n",
      "average is 59\n"
     ]
    }
   ],
   "source": [
    "def generateAverage():\n",
    "    sum = 0\n",
    "    count = 0\n",
    "    with open('files/marks.txt','r') as f:\n",
    "        filedata = f.read()\n",
    "        length = len(filedata.split())\n",
    "        values = filedata.split()\n",
    "        print(values)\n",
    "      #print('length of file is',len(values))\n",
    "        for i in values:\n",
    "            sum += int(i)\n",
    "            count += 1\n",
    "    print('total = ',count,'sum =',sum)\n",
    "    return print('average is',sum//count)\n",
    "\n",
    "generateAverage()\n",
    "generateMarks(10,0,100)"
   ]
  },
  {
   "cell_type": "code",
   "execution_count": 13,
   "metadata": {},
   "outputs": [
    {
     "name": "stdout",
     "output_type": "stream",
     "text": [
      "passed % is  80.0\n",
      "failed % is  20.0\n",
      "distinction % is  30.0\n"
     ]
    }
   ],
   "source": [
    "#finding  per of passed students\n",
    "def gradingstudents():\n",
    "    \n",
    "    with open(\"files/marks.txt\",'r') as p:\n",
    "        p=p.read().split()\n",
    "        passed=0\n",
    "        failed=0\n",
    "        dist=0\n",
    "        j = 0\n",
    "        for i in p:\n",
    "            i=int(i)\n",
    "            if i >= 40:\n",
    "                passed+=1\n",
    "                if(i >=70):\n",
    "                    dist+=1\n",
    "            else:\n",
    "                failed+=1\n",
    "            j+=1\n",
    "        print(\"passed % is \",((passed/j)*100))\n",
    "        print(\"failed % is \",((failed/j)*100))\n",
    "        print(\"distinction % is \",((dist/j)*100))\n",
    "passtudents()"
   ]
  },
  {
   "cell_type": "code",
   "execution_count": 23,
   "metadata": {},
   "outputs": [
    {
     "name": "stdout",
     "output_type": "stream",
     "text": [
      "['74', '41', '93', '46', '31', '93', '1', '48', '1', '1']\n",
      "93 2\n",
      "1 3\n"
     ]
    }
   ],
   "source": [
    "def freqratesof_high_and_low():\n",
    "    with open(\"files/marks.txt\",'r') as d:\n",
    "        d=d.read().split()\n",
    "        hig=0\n",
    "        low=0\n",
    "        li=[]\n",
    "        print(d)\n",
    "        for i in d:\n",
    "            i=int(i)\n",
    "            li.append(i)\n",
    "        h=max(li)\n",
    "        l=min(li)\n",
    "        \n",
    "        print(h,li.count(h))\n",
    "        print(l,li.count(l))\n",
    "freqratesof_high_and_low()"
   ]
  },
  {
   "cell_type": "code",
   "execution_count": null,
   "metadata": {},
   "outputs": [],
   "source": []
  }
 ],
 "metadata": {
  "kernelspec": {
   "display_name": "Python 3",
   "language": "python",
   "name": "python3"
  },
  "language_info": {
   "codemirror_mode": {
    "name": "ipython",
    "version": 3
   },
   "file_extension": ".py",
   "mimetype": "text/x-python",
   "name": "python",
   "nbconvert_exporter": "python",
   "pygments_lexer": "ipython3",
   "version": "3.7.3"
  }
 },
 "nbformat": 4,
 "nbformat_minor": 2
}
