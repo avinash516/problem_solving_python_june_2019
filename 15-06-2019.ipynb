{
 "cells": [
  {
   "cell_type": "markdown",
   "metadata": {},
   "source": [
    "##  Problem Statement-closest Zero value\n",
    "\n",
    "**input Format:**\n",
    "\n",
    "**Explanation**\n",
    "- li =[3,2,-1,-2,-3] (original list)\n",
    "- Sort the data\n",
    "- li = [-3,-2,-1,2,3] (sorted list )\n",
    "- p1 = [1,2,2,3,3] (positive list)\n",
    "- pl[0] --> check if this number is -ve or +ve in the\n",
    "- if pl[0] in li:\n",
    "    - return pl[p]\n",
    "   - else:\n",
    "       rerurnm-p[q]\n"
   ]
  },
  {
   "cell_type": "code",
   "execution_count": 5,
   "metadata": {},
   "outputs": [
    {
     "name": "stdout",
     "output_type": "stream",
     "text": [
      "1\n"
     ]
    }
   ],
   "source": [
    "li =[-1,-2,-3,3]\n",
    "li.sort()\n",
    "pl=[]\n",
    "for i in li:\n",
    "        pl.append(abs(i))\n",
    "pl.sort()\n",
    "if pl[0] is li:\n",
    "    print(-pl[0])\n",
    "else:\n",
    "    print(pl[0])\n",
    "       \n",
    "\n",
    "    "
   ]
  },
  {
   "cell_type": "code",
   "execution_count": 14,
   "metadata": {},
   "outputs": [
    {
     "name": "stdout",
     "output_type": "stream",
     "text": [
      "10\n"
     ]
    }
   ],
   "source": [
    "#Farthest from Zero\n",
    "li =[-1,-2,-1,-10,9]\n",
    "li.sort()\n",
    "pl=[]\n",
    "for i in li:\n",
    "        pl.append(abs(i))\n",
    "pl.sort()\n",
    "if pl[-1] is li:\n",
    "    print(pl[-1])\n",
    "else:\n",
    "    print(pl[-1])\n",
    "       "
   ]
  },
  {
   "cell_type": "markdown",
   "metadata": {},
   "source": [
    "# Problem3\n",
    "youn are given three numbers a,b, and c.\n",
    "write a program to find the largest number which is less than or equal to c and leaves remainder b when divided by a."
   ]
  },
  {
   "cell_type": "code",
   "execution_count": 16,
   "metadata": {},
   "outputs": [
    {
     "data": {
      "text/plain": [
       "8"
      ]
     },
     "execution_count": 16,
     "metadata": {},
     "output_type": "execute_result"
    }
   ],
   "source": [
    "def cal(a,b,c):\n",
    "    for i in range(c,a-1,-1):   # (c,c-1, ......a)\n",
    "        if i%a==b:\n",
    "            return i\n",
    "    return -1\n",
    "cal(3,2,9)"
   ]
  },
  {
   "cell_type": "code",
   "execution_count": 17,
   "metadata": {},
   "outputs": [
    {
     "name": "stdout",
     "output_type": "stream",
     "text": [
      "aba\n",
      "YES\n"
     ]
    }
   ],
   "source": [
    "def palindrom(n):\n",
    "   \n",
    "    if n==n[::-1]:\n",
    "        print(\"YES\")\n",
    "    else:\n",
    "        print(\"NO\")\n",
    "n =input()\n",
    "palindrom(n)\n"
   ]
  },
  {
   "cell_type": "code",
   "execution_count": null,
   "metadata": {},
   "outputs": [],
   "source": [
    "def prime(n):\n",
    "    for i in range(0,n+1):\n",
    "        if n>1:\n",
    "            for i in range(2,i):\n",
    "                if i%n == 0:\n",
    "                    break\n",
    "                else:\n",
    "                    print(i,end=\" \")\n",
    "        \n",
    "n=int(input())\n",
    "prime(n)"
   ]
  },
  {
   "cell_type": "code",
   "execution_count": null,
   "metadata": {},
   "outputs": [],
   "source": []
  }
 ],
 "metadata": {
  "kernelspec": {
   "display_name": "Python 3",
   "language": "python",
   "name": "python3"
  },
  "language_info": {
   "codemirror_mode": {
    "name": "ipython",
    "version": 3
   },
   "file_extension": ".py",
   "mimetype": "text/x-python",
   "name": "python",
   "nbconvert_exporter": "python",
   "pygments_lexer": "ipython3",
   "version": "3.7.3"
  }
 },
 "nbformat": 4,
 "nbformat_minor": 2
}
