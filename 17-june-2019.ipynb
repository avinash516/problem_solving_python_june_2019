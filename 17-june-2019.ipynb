{
 "cells": [
  {
   "cell_type": "code",
   "execution_count": 2,
   "metadata": {},
   "outputs": [
    {
     "name": "stdout",
     "output_type": "stream",
     "text": [
      "9\n",
      "2 3 5 7 "
     ]
    }
   ],
   "source": [
    "#prime numbers inbetween given number\n",
    "def prime(u):\n",
    "    \n",
    "    for n in range(1,u+1):\n",
    "        if n>1:\n",
    "            for i in range(2,n):\n",
    "                if(n%i==0):\n",
    "                    break\n",
    "            else:\n",
    "                print(n,end=\" \")\n",
    "\n",
    "u = int(input())\n",
    "prime(u)"
   ]
  },
  {
   "cell_type": "code",
   "execution_count": 4,
   "metadata": {},
   "outputs": [
    {
     "name": "stdout",
     "output_type": "stream",
     "text": [
      "2\n",
      "abc cab\n",
      "YES\n",
      "hddhd sjd\n",
      "NO\n"
     ]
    }
   ],
   "source": [
    "#Two strings\n",
    "def twos(n):\n",
    "    for i in range(1,n+1):\n",
    "        s=input()\n",
    "        s=s.split()\n",
    "        j=sorted(s[0])\n",
    "        k=sorted(s[1])\n",
    "        if j==k:\n",
    "            print(\"YES\")\n",
    "        else:\n",
    "            print(\"NO\")\n",
    "        \n",
    "        \n",
    "n=int(input())\n",
    "twos(n)"
   ]
  },
  {
   "cell_type": "code",
   "execution_count": 6,
   "metadata": {},
   "outputs": [
    {
     "name": "stdout",
     "output_type": "stream",
     "text": [
      "Abc\n"
     ]
    },
    {
     "data": {
      "text/plain": [
       "'aBC'"
      ]
     },
     "execution_count": 6,
     "metadata": {},
     "output_type": "execute_result"
    }
   ],
   "source": [
    "def togglestring(s):\n",
    "    #s=list(s)\n",
    "    t=[]\n",
    "    for c in s:\n",
    "        if c.islower():\n",
    "            t.append(c.upper())\n",
    "        else:\n",
    "            t.append(c.lower())\n",
    "    return \"\".join(t)\n",
    "s=input()\n",
    "togglestring(s)"
   ]
  },
  {
   "cell_type": "code",
   "execution_count": 9,
   "metadata": {},
   "outputs": [
    {
     "name": "stdout",
     "output_type": "stream",
     "text": [
      "hjhkk\n",
      "48\n"
     ]
    }
   ],
   "source": [
    "#char Sum\n",
    "def charsum(s):\n",
    "    sum=0\n",
    "    for j in s:\n",
    "        s=ord(j)-96\n",
    "        sum=sum+s\n",
    "    print(sum)\n",
    "s=input()\n",
    "charsum(s)"
   ]
  },
  {
   "cell_type": "code",
   "execution_count": null,
   "metadata": {},
   "outputs": [],
   "source": [
    "## Duration\n",
    "#calculate the time difference as total numbers\n",
    "#input :start time,endtime(hh:mm)\n",
    "#HH-{00,01,02,.....23}\n",
    "#mm- {00,01,02 .....59}\n",
    "#HH:MM(00 00,23 59)\n",
    "\"\"\"\n",
    "def minuteDiff(s):\n",
    "    \n",
    "    s=s.split()\n",
    "    sh=int(s[0])\n",
    "    sm=int(s[1])\n",
    "    eh=int(s[2])\n",
    "    em=int(s[3])\n",
    "    startm=(sh*60)+sm\n",
    "    endm=(eh*60)+em\n",
    "    return endm-startm\n",
    "def outputTime(minutes):\n",
    "    hh=minutes//60\n",
    "    mm=minutes%60\n",
    "    print(hh,mm)\n",
    "    return \n",
    "s=input()\n",
    "minutes=minuteDiff(s)\n",
    "outputTime(minutes)\n",
    "\"\"\"\n",
    "\n",
    "def minuteDiff(s):\n",
    "        s=s.split()\n",
    "        sh=int(s[0])\n",
    "        sm=int(s[1])\n",
    "        eh=int(s[2])\n",
    "        em=int(s[3])\n",
    "        startm=(sh*60)+sm\n",
    "        endm=(eh*60)+em\n",
    "        return endm-startm\n",
    "def outputTime(minutes):\n",
    "    hh=minutes//60\n",
    "    mm=minutes%60\n",
    "    print(hh,mm)\n",
    "    return \n",
    "n=int(input())\n",
    "for i in range(1,n+1):\n",
    "    s=input()\n",
    "    minutes=minuteDiff(s)\n",
    "    outputTime(minutes)\n",
    "\n",
    "\n",
    "\n",
    "\n"
   ]
  },
  {
   "cell_type": "code",
   "execution_count": null,
   "metadata": {},
   "outputs": [
    {
     "name": "stdout",
     "output_type": "stream",
     "text": [
      "2\n",
      "1 44 2 14\n",
      "0 30\n",
      "2 42 8 23\n",
      "5 41\n"
     ]
    }
   ],
   "source": [
    "def duration(n):\n",
    "    for i in range(0,n+1):\n",
    "        t = input()\n",
    "        t= t.split()\n",
    "        h1=int(t[0])\n",
    "        m1=int(t[1])\n",
    "        h2=int(t[2])\n",
    "        m2=int(t[3])\n",
    "        if (h2>h1):\n",
    "            res=((h2*60)+m2) - ((h1*60)+m1)\n",
    "            if (res<60):\n",
    "                hrs=0\n",
    "                mins=res\n",
    "                print(hrs, mins)\n",
    "            else:\n",
    "                mins=res%60\n",
    "                hrs=res//60\n",
    "                print(hrs,mins)\n",
    "n=int(input())\n",
    "duration(n)\n",
    "\n"
   ]
  },
  {
   "cell_type": "code",
   "execution_count": null,
   "metadata": {},
   "outputs": [],
   "source": [
    "# play with numbers\n",
    "#line1:array size(n),no of queries(q)\n",
    "#line2:\n",
    "    \n",
    "    \n",
    "    "
   ]
  }
 ],
 "metadata": {
  "kernelspec": {
   "display_name": "Python 3",
   "language": "python",
   "name": "python3"
  },
  "language_info": {
   "codemirror_mode": {
    "name": "ipython",
    "version": 3
   },
   "file_extension": ".py",
   "mimetype": "text/x-python",
   "name": "python",
   "nbconvert_exporter": "python",
   "pygments_lexer": "ipython3",
   "version": "3.7.3"
  }
 },
 "nbformat": 4,
 "nbformat_minor": 2
}
