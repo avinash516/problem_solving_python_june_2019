{
 "cells": [
  {
   "cell_type": "markdown",
   "metadata": {},
   "source": [
    "**Day Objectives**\n",
    "- Maps\n",
    "- Lambda\n",
    "- Filter\n",
    "- Use Cases - File / Data Encryption"
   ]
  },
  {
   "cell_type": "markdown",
   "metadata": {},
   "source": [
    "#### Map\n",
    "\n",
    "Mapping - Entity with Function \n",
    "\n",
    "f : x^2 + 3 *x + 9\n",
    "\n",
    "x:[1,10]\n",
    "\n",
    "f(x)\n",
    "\n",
    "map(function, Iterable)"
   ]
  },
  {
   "cell_type": "code",
   "execution_count": 78,
   "metadata": {},
   "outputs": [
    {
     "data": {
      "text/plain": [
       "16"
      ]
     },
     "execution_count": 78,
     "metadata": {},
     "output_type": "execute_result"
    }
   ],
   "source": [
    "def powerN(a,n):\n",
    "    #return a ** n\n",
    "    r = 1\n",
    "    for i in range(n):\n",
    "        r *= a\n",
    "        \n",
    "    return r\n",
    "powerN(2,10)\n",
    "\n",
    "def recursivePowerN(a,n):\n",
    "    if n == 0:\n",
    "        return 1\n",
    "    else:\n",
    "        return a * recursivePowerN(a,n-1)\n",
    "    \n",
    "recursivePowerN(2,4)    "
   ]
  },
  {
   "cell_type": "code",
   "execution_count": 79,
   "metadata": {},
   "outputs": [
    {
     "data": {
      "text/plain": [
       "{1, 8, 27, 64, 125, 216}"
      ]
     },
     "execution_count": 79,
     "metadata": {},
     "output_type": "execute_result"
    }
   ],
   "source": [
    "def cube(n):\n",
    "    return n ** 3\n",
    "li = [1,2,3,4,5,6]\n",
    "\n",
    "set(map(cube,li))"
   ]
  },
  {
   "cell_type": "code",
   "execution_count": 80,
   "metadata": {},
   "outputs": [
    {
     "data": {
      "text/plain": [
       "[1.0, 2.0, 3.0, 4.0, 5.0, 6.0]"
      ]
     },
     "execution_count": 80,
     "metadata": {},
     "output_type": "execute_result"
    }
   ],
   "source": [
    "def cube(n):\n",
    "    return n ** 3\n",
    "li = ['1','2','3','4','5','6']\n",
    "\n",
    "li2= list(map(float,li))\n",
    "#list(map(str,li2))\n",
    "li2"
   ]
  },
  {
   "cell_type": "markdown",
   "metadata": {},
   "source": [
    "## filter\n",
    "- it is used to boolean values"
   ]
  },
  {
   "cell_type": "code",
   "execution_count": 81,
   "metadata": {},
   "outputs": [
    {
     "data": {
      "text/plain": [
       "[1, 2, 3]"
      ]
     },
     "execution_count": 81,
     "metadata": {},
     "output_type": "execute_result"
    }
   ],
   "source": [
    "\n",
    "li=[1,2,\"a\",\"b\",\"c\",3]\n",
    "def isDigit(c):\n",
    "    c = str(c)\n",
    "    if c.isdigit():\n",
    "        return True\n",
    "    return False\n",
    "#isDigit(\"1\")\n",
    "list(filter(isDigit,li))"
   ]
  },
  {
   "cell_type": "code",
   "execution_count": 82,
   "metadata": {},
   "outputs": [
    {
     "data": {
      "text/plain": [
       "[1, 2, 'a', 'b', 'c', 3]"
      ]
     },
     "execution_count": 82,
     "metadata": {},
     "output_type": "execute_result"
    }
   ],
   "source": [
    "li=[1,2,\"a\",\"b\",\"c\",3]\n",
    "def isDigit(c):\n",
    "    c = str(c)\n",
    "    if c.isdigit():\n",
    "        return -1\n",
    "    return 1\n",
    "isDigit(\"a\")\n",
    "list(filter(isDigit,li))"
   ]
  },
  {
   "cell_type": "code",
   "execution_count": 83,
   "metadata": {},
   "outputs": [
    {
     "data": {
      "text/plain": [
       "[503, 509, 521, 523, 541, 547, 557, 563, 569, 571, 577, 587, 593, 599]"
      ]
     },
     "execution_count": 83,
     "metadata": {},
     "output_type": "execute_result"
    }
   ],
   "source": [
    "# Filter  all primes in a range \n",
    "\n",
    "def primeno(n):\n",
    "    if n < 2:\n",
    "        return False\n",
    "    for i in range(2,n//2 +1):\n",
    "        if  n  % i == 0:\n",
    "            return False\n",
    "    return True\n",
    "lb,ub = 500,600\n",
    "primelist=list(filter(primeno,range(lb,ub)))\n",
    "primelist\n",
    "            \n",
    "    "
   ]
  },
  {
   "cell_type": "code",
   "execution_count": 84,
   "metadata": {},
   "outputs": [
    {
     "name": "stdout",
     "output_type": "stream",
     "text": [
      "[503, 509, 521, 523, 541, 547, 557, 563, 569, 571, 577, 587, 593, 599]\n",
      "[503, 509, 521, 523, 541, 547, 557, 563, 569, 571, 577, 587, 593, 599]\n"
     ]
    }
   ],
   "source": [
    "primelist2=[i for i in range(lb,ub+1) if primeno(i)]\n",
    "primelist2\n",
    "print(primelist)\n",
    "print(primelist2)"
   ]
  },
  {
   "cell_type": "code",
   "execution_count": 85,
   "metadata": {},
   "outputs": [
    {
     "data": {
      "text/plain": [
       "[1, 8, 27, 64, 125, 216]"
      ]
     },
     "execution_count": 85,
     "metadata": {},
     "output_type": "execute_result"
    }
   ],
   "source": [
    "def cube(n):\n",
    "    return n ** 3\n",
    "li = ['1','2','3','4','5','6']\n",
    "\n",
    "li2= list(map(float,li))\n",
    "tuple(map(float,li2))\n",
    "#list(map(strfor i in all\",li2))\n",
    "numbers=[int(i) for i in li]\n",
    "[cube(i) for i in numbers]\n"
   ]
  },
  {
   "cell_type": "markdown",
   "metadata": {},
   "source": [
    "# Lamtbda Function\n",
    "- Anonymous Functions\n",
    "- Can be Embedded into Lists Comprehension,Maps,Filters"
   ]
  },
  {
   "cell_type": "code",
   "execution_count": 86,
   "metadata": {},
   "outputs": [
    {
     "name": "stdout",
     "output_type": "stream",
     "text": [
      "[<function <listcomp>.<lambda> at 0x000001A4D1081C80>, <function <listcomp>.<lambda> at 0x000001A4D1081D90>, <function <listcomp>.<lambda> at 0x000001A4D1081B70>, <function <listcomp>.<lambda> at 0x000001A4D1081AE8>, <function <listcomp>.<lambda> at 0x000001A4D1081BF8>, <function <listcomp>.<lambda> at 0x000001A4D1081268>, <function <listcomp>.<lambda> at 0x000001A4D1081048>, <function <listcomp>.<lambda> at 0x000001A4D10811E0>, <function <listcomp>.<lambda> at 0x000001A4D1081598>, <function <listcomp>.<lambda> at 0x000001A4D1081510>]\n"
     ]
    }
   ],
   "source": [
    "a = [lambda x: x % 2==0 for x in range(1,11)]\n",
    "print(a)"
   ]
  },
  {
   "cell_type": "code",
   "execution_count": 87,
   "metadata": {},
   "outputs": [
    {
     "data": {
      "text/plain": [
       "[1, 3, 5]"
      ]
     },
     "execution_count": 87,
     "metadata": {},
     "output_type": "execute_result"
    }
   ],
   "source": [
    "b=lambda x:x ** 3\n",
    "\n",
    "\n",
    "list(map(lambda x:x**3,[1,2,3,4,5,6]))\n",
    "list(filter(lambda x:(x% 2 !=0),[1,2,3,4,5,6]))"
   ]
  },
  {
   "cell_type": "code",
   "execution_count": 88,
   "metadata": {},
   "outputs": [
    {
     "data": {
      "text/plain": [
       "[8, 12, 6, 12, 13]"
      ]
     },
     "execution_count": 88,
     "metadata": {},
     "output_type": "execute_result"
    }
   ],
   "source": [
    "import random\n",
    "\n",
    "internalmarks1 = [random.randint(0,25) for i in range(1,10)]\n",
    "internalmarks2 = [random.randint(0,25) for i in range(1,10)]\n",
    "internalmarks3 = [random.randint(0,25) for i in range(1,10)]\n",
    "#internalmarks1\n",
    "#internelmarks2\n",
    "\n",
    "avgInterna=list(map(lambda x,y,z: (x+y+z)//3 ,internalmarks1,internelmarks2,internalmarks3))\n",
    "#avgInterna\n",
    "failedstudents=list(filter(lambda x:x <15 ,avgInterna))\n",
    "failedstudents"
   ]
  },
  {
   "cell_type": "markdown",
   "metadata": {},
   "source": [
    "### Applying functional Programming to the marks Analysys application\n"
   ]
  },
  {
   "cell_type": "code",
   "execution_count": 89,
   "metadata": {},
   "outputs": [],
   "source": [
    "# generate marks data\n",
    "from random import randint\n",
    "def generateMarks(n, lb, ub):\n",
    "    filename = 'files/marks.txt'\n",
    "    with open(filename,'w') as f:\n",
    "        for i in range(n):\n",
    "            marks = randint(lb,ub)\n",
    "            f.write(str(marks)+'\\n')\n",
    "           \n",
    "    return       \n",
    "generateMarks(300, 0, 100)"
   ]
  },
  {
   "cell_type": "markdown",
   "metadata": {},
   "source": [
    "# Marks Analysis\n",
    "### Class Average,\n",
    "### % of passed ,failed and Distinction\n",
    "### Frequency of highest and lowest Marks"
   ]
  },
  {
   "cell_type": "code",
   "execution_count": 90,
   "metadata": {},
   "outputs": [
    {
     "data": {
      "text/plain": [
       "[30,\n",
       " 32,\n",
       " 11,\n",
       " 19,\n",
       " 2,\n",
       " 71,\n",
       " 12,\n",
       " 9,\n",
       " 84,\n",
       " 23,\n",
       " 13,\n",
       " 24,\n",
       " 72,\n",
       " 19,\n",
       " 82,\n",
       " 53,\n",
       " 63,\n",
       " 70,\n",
       " 72,\n",
       " 79,\n",
       " 10,\n",
       " 72,\n",
       " 86,\n",
       " 75,\n",
       " 14,\n",
       " 83,\n",
       " 55,\n",
       " 7,\n",
       " 38,\n",
       " 55,\n",
       " 25,\n",
       " 28,\n",
       " 59,\n",
       " 19,\n",
       " 64,\n",
       " 9,\n",
       " 79,\n",
       " 39,\n",
       " 95,\n",
       " 26,\n",
       " 55,\n",
       " 93,\n",
       " 34,\n",
       " 33,\n",
       " 96,\n",
       " 1,\n",
       " 28,\n",
       " 38,\n",
       " 23,\n",
       " 20,\n",
       " 59,\n",
       " 30,\n",
       " 77,\n",
       " 88,\n",
       " 33,\n",
       " 72,\n",
       " 26,\n",
       " 10,\n",
       " 47,\n",
       " 83,\n",
       " 89,\n",
       " 6,\n",
       " 74,\n",
       " 72,\n",
       " 46,\n",
       " 54,\n",
       " 98,\n",
       " 45,\n",
       " 60,\n",
       " 37,\n",
       " 62,\n",
       " 87,\n",
       " 9,\n",
       " 90,\n",
       " 4,\n",
       " 83,\n",
       " 44,\n",
       " 38,\n",
       " 49,\n",
       " 47,\n",
       " 48,\n",
       " 20,\n",
       " 79,\n",
       " 99,\n",
       " 29,\n",
       " 20,\n",
       " 47,\n",
       " 47,\n",
       " 11,\n",
       " 87,\n",
       " 61,\n",
       " 12,\n",
       " 18,\n",
       " 7,\n",
       " 37,\n",
       " 49,\n",
       " 28,\n",
       " 49,\n",
       " 67,\n",
       " 76,\n",
       " 1,\n",
       " 24,\n",
       " 74,\n",
       " 51,\n",
       " 97,\n",
       " 58,\n",
       " 63,\n",
       " 41,\n",
       " 7,\n",
       " 69,\n",
       " 56,\n",
       " 56,\n",
       " 44,\n",
       " 85,\n",
       " 68,\n",
       " 31,\n",
       " 5,\n",
       " 65,\n",
       " 89,\n",
       " 63,\n",
       " 47,\n",
       " 20,\n",
       " 49,\n",
       " 83,\n",
       " 14,\n",
       " 5,\n",
       " 22,\n",
       " 47,\n",
       " 37,\n",
       " 63,\n",
       " 17,\n",
       " 52,\n",
       " 100,\n",
       " 39,\n",
       " 42,\n",
       " 11,\n",
       " 56,\n",
       " 22,\n",
       " 38,\n",
       " 47,\n",
       " 6,\n",
       " 75,\n",
       " 92,\n",
       " 12,\n",
       " 90,\n",
       " 75,\n",
       " 29,\n",
       " 39,\n",
       " 47,\n",
       " 88,\n",
       " 14,\n",
       " 85,\n",
       " 93,\n",
       " 59,\n",
       " 44,\n",
       " 16,\n",
       " 92,\n",
       " 65,\n",
       " 61,\n",
       " 56,\n",
       " 30,\n",
       " 31,\n",
       " 76,\n",
       " 53,\n",
       " 9,\n",
       " 38,\n",
       " 85,\n",
       " 56,\n",
       " 29,\n",
       " 81,\n",
       " 80,\n",
       " 61,\n",
       " 19,\n",
       " 61,\n",
       " 73,\n",
       " 59,\n",
       " 6,\n",
       " 12,\n",
       " 78,\n",
       " 86,\n",
       " 19,\n",
       " 57,\n",
       " 78,\n",
       " 95,\n",
       " 96,\n",
       " 57,\n",
       " 79,\n",
       " 78,\n",
       " 93,\n",
       " 71,\n",
       " 81,\n",
       " 16,\n",
       " 43,\n",
       " 41,\n",
       " 16,\n",
       " 97,\n",
       " 1,\n",
       " 86,\n",
       " 40,\n",
       " 23,\n",
       " 82,\n",
       " 59,\n",
       " 43,\n",
       " 72,\n",
       " 73,\n",
       " 4,\n",
       " 84,\n",
       " 39,\n",
       " 40,\n",
       " 82,\n",
       " 52,\n",
       " 3,\n",
       " 87,\n",
       " 54,\n",
       " 43,\n",
       " 79,\n",
       " 60,\n",
       " 1,\n",
       " 11,\n",
       " 38,\n",
       " 34,\n",
       " 43,\n",
       " 36,\n",
       " 34,\n",
       " 47,\n",
       " 81,\n",
       " 18,\n",
       " 22,\n",
       " 69,\n",
       " 38,\n",
       " 59,\n",
       " 62,\n",
       " 98,\n",
       " 34,\n",
       " 19,\n",
       " 92,\n",
       " 88,\n",
       " 50,\n",
       " 89,\n",
       " 23,\n",
       " 22,\n",
       " 27,\n",
       " 30,\n",
       " 77,\n",
       " 21,\n",
       " 59,\n",
       " 75,\n",
       " 92,\n",
       " 62,\n",
       " 50,\n",
       " 75,\n",
       " 80,\n",
       " 77,\n",
       " 59,\n",
       " 80,\n",
       " 14,\n",
       " 90,\n",
       " 21,\n",
       " 10,\n",
       " 13,\n",
       " 100,\n",
       " 67,\n",
       " 92,\n",
       " 21,\n",
       " 23,\n",
       " 26,\n",
       " 61,\n",
       " 60,\n",
       " 69,\n",
       " 9,\n",
       " 86,\n",
       " 39,\n",
       " 95,\n",
       " 17,\n",
       " 6,\n",
       " 15,\n",
       " 52,\n",
       " 5,\n",
       " 83,\n",
       " 1,\n",
       " 33,\n",
       " 15,\n",
       " 82,\n",
       " 80,\n",
       " 68,\n",
       " 87,\n",
       " 36,\n",
       " 90,\n",
       " 6,\n",
       " 33,\n",
       " 66,\n",
       " 62,\n",
       " 89,\n",
       " 62,\n",
       " 68,\n",
       " 26,\n",
       " 35,\n",
       " 75,\n",
       " 100,\n",
       " 2]"
      ]
     },
     "execution_count": 90,
     "metadata": {},
     "output_type": "execute_result"
    }
   ],
   "source": [
    "def readMarkslist(filepath):\n",
    "    with open(filepath,\"r\") as f:\n",
    "        filedata=f.read().split()\n",
    "    return list(map(int,filedata))\n",
    "filepath='files/marks.txt'\n",
    "readMarkslist(filepath)"
   ]
  },
  {
   "cell_type": "code",
   "execution_count": 91,
   "metadata": {},
   "outputs": [
    {
     "data": {
      "text/plain": [
       "50"
      ]
     },
     "execution_count": 91,
     "metadata": {},
     "output_type": "execute_result"
    }
   ],
   "source": [
    "def classAverage(filepath):\n",
    "    with open(filepath,\"r\") as f:\n",
    "        filedata=f.read().split()\n",
    "        #markslist=re.split(\"\\n\",filedata)\n",
    "    markslist=list(map(int,filedata))\n",
    "    return sum(markslist)//len(markslist)\n",
    "filepath='files/marks.txt'\n",
    "classAverage(filepath)"
   ]
  },
  {
   "cell_type": "code",
   "execution_count": 92,
   "metadata": {},
   "outputs": [
    {
     "data": {
      "text/plain": [
       "40.33333333333333"
      ]
     },
     "execution_count": 92,
     "metadata": {},
     "output_type": "execute_result"
    }
   ],
   "source": [
    "def percentageFailed(filepath):\n",
    "    markslist=readMarkslist(filepath)\n",
    "    failedcount=len(list(filter(lambda mark: mark<40,markslist)))\n",
    "    return (failedcount/len(markslist))/(1/100)\n",
    "percentageFailed(filepath)"
   ]
  },
  {
   "cell_type": "code",
   "execution_count": 93,
   "metadata": {},
   "outputs": [
    {
     "data": {
      "text/plain": [
       "59.66666666666667"
      ]
     },
     "execution_count": 93,
     "metadata": {},
     "output_type": "execute_result"
    }
   ],
   "source": [
    "def percentagePassed(filepath):\n",
    "    return 100-percentageFailed(filepath)\n",
    "percentagePassed(filepath)"
   ]
  },
  {
   "cell_type": "code",
   "execution_count": 94,
   "metadata": {},
   "outputs": [
    {
     "data": {
      "text/plain": [
       "30.666666666666664"
      ]
     },
     "execution_count": 94,
     "metadata": {},
     "output_type": "execute_result"
    }
   ],
   "source": [
    "def percentageDistinction(filepath):\n",
    "    markslist=readMarkslist(filepath)\n",
    "    distcount=len(list(filter(lambda mark: mark>70,markslist)))\n",
    "    return (distcount/len(markslist))/(1/100)\n",
    "percentageDistinction(filepath)"
   ]
  },
  {
   "cell_type": "code",
   "execution_count": 95,
   "metadata": {},
   "outputs": [
    {
     "data": {
      "text/plain": [
       "[3, 100]"
      ]
     },
     "execution_count": 95,
     "metadata": {},
     "output_type": "execute_result"
    }
   ],
   "source": [
    "def highestfreq(filepath):\n",
    "    markslist=readMarkslist(filepath)\n",
    "    return [markslist.count(max(markslist)),max(markslist)]\n",
    "highestfreq(filepath)    "
   ]
  },
  {
   "cell_type": "code",
   "execution_count": 96,
   "metadata": {},
   "outputs": [
    {
     "data": {
      "text/plain": [
       "[5, 1]"
      ]
     },
     "execution_count": 96,
     "metadata": {},
     "output_type": "execute_result"
    }
   ],
   "source": [
    "def highestfreq(filepath):\n",
    "    markslist=readMarkslist(filepath)\n",
    "    return [markslist.count(min(markslist)),min(markslist)]\n",
    "highestfreq(filepath)"
   ]
  },
  {
   "cell_type": "markdown",
   "metadata": {},
   "source": [
    "## Data Encryption\n",
    "\n",
    "- key-Mapping of data with replaced charecter\n",
    "0 -> 4   #\n",
    "1 -> 5   $\n",
    "2 -> 6   &\n",
    "3 -> 7\n",
    "4 -> 8\n",
    "5 -> 9\n",
    "6 -> 0\n",
    "7 -> 1\n",
    "8 -> 2\n",
    "9 -> 3"
   ]
  },
  {
   "cell_type": "code",
   "execution_count": 101,
   "metadata": {},
   "outputs": [],
   "source": [
    "# function generate key for Encryption\n",
    "keypath  = 'files/key1.txt'\n",
    "\n",
    "def generatekey(keypath):\n",
    "        with open(keypath,\"w\") as f:\n",
    "            for i in range(10):\n",
    "                if  i< 6:\n",
    "                    f.write(str(i)+\" \" +str(i+4)+\"\\n\")\n",
    "                else:\n",
    "                    f.write(str(i)+\" \" +str(i-6)+\"\\n\")\n",
    "        return\n",
    "\n",
    "generatekey(keypath)                "
   ]
  },
  {
   "cell_type": "code",
   "execution_count": 6,
   "metadata": {},
   "outputs": [],
   "source": [
    "# Function to encrypt a data file\n",
    "def dictKeyfile(keyfile):\n",
    "    key = {}\n",
    "    with open(keyfile,\"r\") as f:\n",
    "        for line in f:\n",
    "            line=line.split()\n",
    "            key[line[0]]=line[1]\n",
    "    return key\n",
    "#dictKeyfile(keyfile)\n",
    "\n",
    "def encryptMarksData(datafile, keyfile):\n",
    "    key = dictKeyfile(keyfile)\n",
    "    with open(datafile, 'r') as f:\n",
    "        filedata = f.read().split('\\n')\n",
    "       \n",
    "    with open('files/encryptedMarks.txt', 'w') as f:\n",
    "        for mark in filedata:\n",
    "            line = ''\n",
    "            for n in mark:\n",
    "                line += key[n]\n",
    "            f.write(line + '\\n')\n",
    "    return      \n",
    "keyfile = 'files/key1.txt'             \n",
    "datafile = 'files/marks.txt'\n",
    "encryptMarksData(datafile, keyfile)\n",
    "\n",
    "\n",
    "#def encryptMarksData(datafile,keyfile):\n",
    "    "
   ]
  },
  {
   "cell_type": "code",
   "execution_count": null,
   "metadata": {},
   "outputs": [],
   "source": [
    "# function to decrypt an encrypted file\n",
    "def decryptmarksData(datafile,keyfile):\n",
    "    key = dictKeyfile(keyfile)\n",
    "    newkey={}\n",
    "    for i,j in key.items():\n",
    "        newkey[j]=i\n",
    "    with open(encryptedfile, 'r') as f:\n",
    "        encrypteddata = f.read().split('\\n')\n",
    "    with open('files/decryptMarks.txt', 'w') as f:\n",
    "        line=\" \"\n",
    "        for encryptedmark in encrypteddata:\n",
    "            line +=  newkey[n]        \n",
    "            \n",
    "    "
   ]
  },
  {
   "cell_type": "code",
   "execution_count": null,
   "metadata": {},
   "outputs": [],
   "source": []
  }
 ],
 "metadata": {
  "kernelspec": {
   "display_name": "Python 3",
   "language": "python",
   "name": "python3"
  },
  "language_info": {
   "codemirror_mode": {
    "name": "ipython",
    "version": 3
   },
   "file_extension": ".py",
   "mimetype": "text/x-python",
   "name": "python",
   "nbconvert_exporter": "python",
   "pygments_lexer": "ipython3",
   "version": "3.7.3"
  }
 },
 "nbformat": 4,
 "nbformat_minor": 2
}
