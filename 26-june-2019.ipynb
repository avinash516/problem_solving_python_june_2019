{
 "cells": [
  {
   "cell_type": "code",
   "execution_count": null,
   "metadata": {},
   "outputs": [],
   "source": [
    "# largest number in a list\n",
    "# Second largest number\n",
    "# K th largest number in a list\n",
    "\n",
    "# Element with highest frequency\n",
    "# second highest frequency\n",
    "# k th highest frequency\n",
    "\n"
   ]
  },
  {
   "cell_type": "code",
   "execution_count": 9,
   "metadata": {},
   "outputs": [
    {
     "data": {
      "text/plain": [
       "6"
      ]
     },
     "execution_count": 9,
     "metadata": {},
     "output_type": "execute_result"
    }
   ],
   "source": [
    "# function find the second largest number in a given list\n",
    "\n",
    "def secondLargest(li):\n",
    "    # Convert the list into a unique list\n",
    "    # 0(n)\n",
    "    unique=[]\n",
    "    for num in li:\n",
    "        if num not in unique:\n",
    "            unique.append(num)\n",
    "    unique = sorted(unique,reverse=True)\n",
    "    if len(unique) > 1:\n",
    "        return unique[1]\n",
    "    return -1\n",
    "secondLargest([1,2,3,4,5,6,3,5,8,1])       "
   ]
  },
  {
   "cell_type": "code",
   "execution_count": 8,
   "metadata": {},
   "outputs": [
    {
     "data": {
      "text/plain": [
       "2"
      ]
     },
     "execution_count": 8,
     "metadata": {},
     "output_type": "execute_result"
    }
   ],
   "source": [
    "def fifthleast(li):\n",
    "    unique=[]\n",
    "    for num in li:\n",
    "        if num not in unique:\n",
    "            unique.append(num)\n",
    "    unique = sorted(unique,reverse=True)\n",
    "    return unique[4]\n",
    "fifthleast([1,2,5,6,3,5,8,1])"
   ]
  },
  {
   "cell_type": "code",
   "execution_count": 12,
   "metadata": {},
   "outputs": [
    {
     "name": "stdout",
     "output_type": "stream",
     "text": [
      "[1, 2, 3, 4, 5, 6, 7, 8, 24, 78]\n"
     ]
    },
    {
     "data": {
      "text/plain": [
       "5"
      ]
     },
     "execution_count": 12,
     "metadata": {},
     "output_type": "execute_result"
    }
   ],
   "source": [
    "# k th smallest\n",
    "def smallest(li,k):\n",
    "    unique=[]\n",
    "    for num in li:\n",
    "        if num not in unique:\n",
    "            unique.append(num)\n",
    "    unique = sorted(unique)\n",
    "    print(unique)\n",
    "    if len(unique) >= k:\n",
    "        return unique[k-1]\n",
    "    return -1\n",
    "\n",
    "smallest([1,4,3,5,2,6,7,8,3,24,78],5)\n",
    "\n",
    "    \n",
    "    \n",
    "    "
   ]
  },
  {
   "cell_type": "code",
   "execution_count": 13,
   "metadata": {},
   "outputs": [
    {
     "name": "stdout",
     "output_type": "stream",
     "text": [
      "[9, 5, 4, 3, 2, 1]\n"
     ]
    },
    {
     "data": {
      "text/plain": [
       "9"
      ]
     },
     "execution_count": 13,
     "metadata": {},
     "output_type": "execute_result"
    }
   ],
   "source": [
    "# k th largest\n",
    "def kLargest(li,k):\n",
    "    unique =[]\n",
    "    for n in li:\n",
    "        if n not in unique:\n",
    "            unique.append(n)\n",
    "    unique = sorted(unique,reverse = True)\n",
    "    print(unique)\n",
    "    return unique[-k]\n",
    "   \n",
    "kLargest([1,2,3,4,5,1,3,5,9],6)"
   ]
  },
  {
   "cell_type": "code",
   "execution_count": 15,
   "metadata": {},
   "outputs": [
    {
     "data": {
      "text/plain": [
       "5"
      ]
     },
     "execution_count": 15,
     "metadata": {},
     "output_type": "execute_result"
    }
   ],
   "source": [
    "# function to identify the element with highest frequency in a list\n",
    "# if many elements have the highest frequency\n",
    "\"\"\"def highestfrequency(li):\n",
    "    unique=[]\n",
    "    for n in li:\n",
    "        if n in unique:\n",
    "            unique[n]+=1\n",
    "        else:\n",
    "            unique[n]=1\n",
    "    freq=unique.values()\n",
    "    maxfreq=max(freq)\n",
    "    maxfreq=[]\n",
    "    for item in unique.items():\n",
    "        \n",
    "\n",
    "highestfrequency([5,4,2,6,8,44,22,11,33,44]) \"\"\"\n",
    "\n",
    "def highestFrequencyElement(li):\n",
    "    unique = []\n",
    "    for n in li:\n",
    "        if n not in unique:\n",
    "            unique.append(n)\n",
    "    unique = sorted(unique,reverse = True)\n",
    "    highest = unique[0]\n",
    "    abc = 0\n",
    "    for i in range(0,len(li)):\n",
    "        if li[i] == highest:\n",
    "            abc+=1\n",
    "  #c = unique.count(unique[0])\n",
    "    return abc\n",
    "highestFrequencyElement([90,22,34,55,80,80,20,80,45,65,90,90,90,90,])\n"
   ]
  },
  {
   "cell_type": "code",
   "execution_count": 21,
   "metadata": {},
   "outputs": [
    {
     "name": "stdout",
     "output_type": "stream",
     "text": [
      "{1: 2, 2: 2, 3: 3, 4: 2, 9: 1}\n"
     ]
    },
    {
     "data": {
      "text/plain": [
       "9"
      ]
     },
     "execution_count": 21,
     "metadata": {},
     "output_type": "execute_result"
    }
   ],
   "source": [
    "# function to identify second highest frequency \n",
    "# if there are many such elements \n",
    "# [1,2,3,1,2,4,4,9] --> 3\n",
    "\n",
    "# find the kth frequency\n",
    "\n",
    "def secondHighestFrequency(li):\n",
    "    unique = {}\n",
    "    for n in li:\n",
    "        if n not in unique:\n",
    "            unique[n] = 1\n",
    "        else:\n",
    "            unique[n] += 1\n",
    "           \n",
    "    print(unique)\n",
    "   \n",
    "    freq = unique.values()\n",
    "    maxfreq = max(freq)\n",
    "   \n",
    "    max1 = 0\n",
    "    for j in unique.values():\n",
    "        if j>max1 and j<maxfreq:\n",
    "            max2 = j\n",
    "           \n",
    "    maxfreqkeys=[]\n",
    "\n",
    "    for item in unique.items():\n",
    "        if item[1] == max2:\n",
    "            maxfreqkeys.append(item[0])\n",
    "    return min(maxfreqkeys)\n",
    "\n",
    "secondHighestFrequency([1,2,3,2,1,4,4,9,3,3])    \n",
    "    \n",
    "\n",
    "        \n",
    "        \n",
    "    "
   ]
  },
  {
   "cell_type": "code",
   "execution_count": null,
   "metadata": {},
   "outputs": [],
   "source": [
    "# Function to find the second largest number in a list\n",
    "\n",
    "def secondLargest(li):\n",
    "    # Convert the list into a unique list\n",
    "    # O(n)\n",
    "    unique = []\n",
    "    for n in li:\n",
    "        if n not in unique:\n",
    "            unique.append(n)\n",
    "    \n",
    "    unique = sorted(unique, reverse=True)\n",
    "    if len(unique) > 1:\n",
    "        return unique[1]\n",
    "    return -1\n",
    "\n",
    "secondLargest([1])\n",
    "\n",
    "# def fifthLeast(li)\n",
    "\n",
    "# def kLargest(li, k)\n",
    "\n",
    "def kSmallest(li, k):\n",
    "    # Extract Unique elements in the list\n",
    "    unique = []\n",
    "    for i in li:\n",
    "        if i not in unique:\n",
    "            unique.append(i)\n",
    "    \n",
    "    # Sort the Unique list in ascending order\n",
    "    unique = sorted(unique)\n",
    "    \n",
    "    #Check if length of unique list is greater than k\n",
    "    if len(unique) >= k:\n",
    "        return unique[k-1]\n",
    "    return -1\n",
    "\n",
    "kSmallest([], 1)\n",
    "    "
   ]
  },
  {
   "cell_type": "code",
   "execution_count": null,
   "metadata": {},
   "outputs": [],
   "source": [
    "# Function to identify the element with highest frequency in a list\n",
    "# If many elements have the have the highest frequency, return the smallest\n",
    "# highestFrequencyElement([1,2,3,9,8,7,3,4,2,1]) -> 1\n",
    "def highestFrequencyElement(li):\n",
    "    #Extracting unique elements with frequencies\n",
    "    unique = {}\n",
    "    for n in li:\n",
    "        if n in unique:\n",
    "            unique[n] += 1\n",
    "        else:\n",
    "            unique[n] = 1\n",
    "    # unique = {1:2, 2:2, 3:2, 9:1, 8:1, 7:1, 4:1}\n",
    "    maxfreq = max(unique.values())\n",
    "    \n",
    "    #Extract all keys with maxfreq in a list\n",
    "    maxfreqkeys = []\n",
    "    for item in unique.items():\n",
    "        #item -> (key, value)\n",
    "        # item[1]\n",
    "        if item[1] == maxfreq:\n",
    "            maxfreqkeys.append(item[0])\n",
    "    \n",
    "    return min(maxfreqkeys)\n",
    "\n",
    "highestFrequencyElement([1,2,3,9,8,7,3,4,2,1])"
   ]
  },
  {
   "cell_type": "code",
   "execution_count": 17,
   "metadata": {},
   "outputs": [
    {
     "name": "stdout",
     "output_type": "stream",
     "text": [
      "3936\n",
      "3820\n",
      "3851\n",
      "3822\n",
      "3887\n",
      "3814\n",
      "3741\n",
      "3789\n",
      "-1\n",
      "3984\n"
     ]
    }
   ],
   "source": [
    "# Function to identify Kth highest frequency element\n",
    "# If there are many such elements, return the smallest\n",
    "# [9,8,7,6,5,2,3,4,9,6,7,7,7,6,7,6], k=4 -> 2\n",
    "\n",
    "def khighestfreq(s,k):\n",
    "    #unique charecters frequency\n",
    "    unique={}\n",
    "    for c in s:\n",
    "        if c not in unique:\n",
    "            unique[c]=1\n",
    "        else:\n",
    "            unique[c]+=1\n",
    "    # unique={9:2,8:1,7:5,6:4,5:1,2:1,3:1,4:1}\n",
    "    #return unique\n",
    "    #extract all unique frequencies in a list\n",
    "    #uniquefreq=[2,1,5,4]\n",
    "    uniquefreq=[]\n",
    "    for value in unique.values():\n",
    "        if value not in uniquefreq:\n",
    "            uniquefreq.append(value)\n",
    "            \n",
    "   # return uniquefreq        \n",
    "    uniquefreq=sorted(uniquefreq)\n",
    "    if len(uniquefreq) >= k:\n",
    "         return uniquefreq[k-1]\n",
    "    else:\n",
    "        return -1\n",
    "    kfreqchar=[]\n",
    "    if len(kfreqchar) == 1:\n",
    "        return kfreqchar[0]\n",
    "    elif len(kfreqchar)>=1:\n",
    "        return min(kfreqchar)\n",
    "    for item in unique.items():\n",
    "        if item[1]==kfreq:\n",
    "            kfreqchar.append(item[0])\n",
    "    return min(kfreqchar)\n",
    "#khighestfreq([9,8,7,6,5,2,3,4,9,6,7,7,7,6,7,6],3)\n",
    "with open('k-largest-frequency-input.txt') as t:\n",
    "    j=int(t.readline())\n",
    "    for i in range(j):\n",
    "        s=t.readline()\n",
    "        k=int(t.readline())\n",
    "        print(khighestfreq(s,k))"
   ]
  },
  {
   "cell_type": "code",
   "execution_count": 23,
   "metadata": {},
   "outputs": [
    {
     "name": "stdout",
     "output_type": "stream",
     "text": [
      "s\n",
      "g\n",
      "h\n",
      "e\n",
      "w\n",
      "r\n",
      "n\n",
      "k\n",
      "-1\n",
      "-1\n"
     ]
    }
   ],
   "source": [
    "def KthHighestFrequency(s,k):\n",
    "    # Unique characters with frequencies\n",
    "    \n",
    "    unique = {}\n",
    "    for c in s:\n",
    "        if c not in unique:\n",
    "            unique[c] = 1\n",
    "        else:\n",
    "            unique[c] += 1\n",
    "            \n",
    "    # unique = {9:2,8:1,7:5,6:4,5:1,4:}        \n",
    "    #return unique\n",
    "    \n",
    "    # Extract all unique frequencies in a list\n",
    "    # uniquefreq=[2,1,5,4]\n",
    "    \n",
    "    uniquefreq = []\n",
    "    for value in unique.values():\n",
    "        if value not in uniquefreq:\n",
    "            uniquefreq.append(value)\n",
    "    \n",
    "    uniquefreq = sorted(uniquefreq,reverse = True)\n",
    "    #print(uniquefreq)\n",
    "    #print(k, end = \" \")\n",
    "    if(len(uniquefreq))>k:\n",
    "        kfreq = uniquefreq[k-1]\n",
    "    else:\n",
    "        #print(k)\n",
    "        return -1\n",
    "        \n",
    "    kfreqchar = []\n",
    "    for item in unique.items():\n",
    "        if item[1] == kfreq:\n",
    "            kfreqchar.append(item[0])\n",
    "            \n",
    "    if len(kfreqchar)==1:\n",
    "        return kfreqchar[0]\n",
    "    elif len(kfreqchar)>= 1:\n",
    "        return min(kfreqchar)\n",
    "            \n",
    "    #return kfreqchar\n",
    "        \n",
    "with open('k-largest-frequency-input.txt','r') as f:\n",
    "    t = int(f.readline())\n",
    "    for i in range(t):\n",
    "        s = f.readline()\n",
    "        k = int(f.readline())\n",
    "        #print(s, k)\n",
    "        #print(k, end = \" \")\n",
    "        print(KthHighestFrequency(s,k))\n",
    "    \n",
    "    \n",
    "#KthHighestFrequency()\n"
   ]
  },
  {
   "cell_type": "code",
   "execution_count": null,
   "metadata": {},
   "outputs": [],
   "source": []
  }
 ],
 "metadata": {
  "kernelspec": {
   "display_name": "Python 3",
   "language": "python",
   "name": "python3"
  },
  "language_info": {
   "codemirror_mode": {
    "name": "ipython",
    "version": 3
   },
   "file_extension": ".py",
   "mimetype": "text/x-python",
   "name": "python",
   "nbconvert_exporter": "python",
   "pygments_lexer": "ipython3",
   "version": "3.7.3"
  }
 },
 "nbformat": 4,
 "nbformat_minor": 2
}
