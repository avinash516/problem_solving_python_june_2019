{
 "cells": [
  {
   "cell_type": "code",
   "execution_count": null,
   "metadata": {},
   "outputs": [
    {
     "name": "stdout",
     "output_type": "stream",
     "text": [
      "108\n",
      "12\n",
      "1 WS\n",
      "3\n",
      "10 AS\n",
      "44\n",
      "41 MS\n",
      "67\n",
      "66 WS\n",
      "108\n",
      "97 WS\n"
     ]
    }
   ],
   "source": [
    "def seat(seno) :\n",
    "    if(seno%12 <= 6 and seno%12 !=0 ):\n",
    "        side=seno%6\n",
    "        if(side==1):\n",
    "             print(seno+11, \"WS\")\n",
    "        if(side==2):\n",
    "            print(seno+9, \"MS\")\n",
    "        if(side==3):\n",
    "            print(seno+7, \"AS\")\n",
    "        if(side==4):\n",
    "            print(seno+5, \"AS\")\n",
    "        if(side==5):\n",
    "            print(seno+3, \"MS\")\n",
    "        if(side==0):\n",
    "            print(seno+1, \"WS\")     \n",
    "    else:\n",
    "        side=seno%6\n",
    "        if(side==1):\n",
    "             print(seno-1, \"WS\")\n",
    "        if(side==2):\n",
    "            print(seno-3, \"MS\")\n",
    "        if(side==3):\n",
    "            print(seno-5, \"AS\")\n",
    "        if(side==4):\n",
    "            print(seno-7, \"AS\")\n",
    "        if(side==5):\n",
    "            print(seno-9, \"MS\")\n",
    "        if(side==0):\n",
    "            print(seno-11, \"WS\") \n",
    "\n",
    "\n",
    "totalseat=int(input())\n",
    "for i in range (0,totalseat) :\n",
    "     seno=int(input())\n",
    "     seat(seno)\n"
   ]
  },
  {
   "cell_type": "code",
   "execution_count": null,
   "metadata": {},
   "outputs": [],
   "source": [
    "n=int(input())\n",
    "for i in range(n):\n",
    "    s=input()\n",
    "    if s.count('a') < s.count('b'):\n",
    "        print(s.count('a'))\n",
    "    elif s.count('b') < s.count('a'):\n",
    "        print(s.count('b'))\n",
    "    elif s.count('a') == s.count('b'):\n",
    "        print(s.count('a'))"
   ]
  },
  {
   "cell_type": "code",
   "execution_count": null,
   "metadata": {},
   "outputs": [],
   "source": []
  }
 ],
 "metadata": {
  "kernelspec": {
   "display_name": "Python 3",
   "language": "python",
   "name": "python3"
  },
  "language_info": {
   "codemirror_mode": {
    "name": "ipython",
    "version": 3
   },
   "file_extension": ".py",
   "mimetype": "text/x-python",
   "name": "python",
   "nbconvert_exporter": "python",
   "pygments_lexer": "ipython3",
   "version": "3.7.3"
  }
 },
 "nbformat": 4,
 "nbformat_minor": 2
}
